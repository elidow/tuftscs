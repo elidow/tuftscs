{
 "cells": [
  {
   "cell_type": "markdown",
   "id": "1a6a15a3",
   "metadata": {},
   "source": [
    "## PROJECT 01\n",
    "\n",
    "### by Eli Dow\n"
   ]
  },
  {
   "cell_type": "markdown",
   "id": "1979b8ed",
   "metadata": {},
   "source": [
    "## Part One: Logistic Regression for Digit Classification"
   ]
  },
  {
   "cell_type": "markdown",
   "id": "75ec3d64",
   "metadata": {},
   "source": [
    "### Import required libraries."
   ]
  },
  {
   "cell_type": "code",
   "execution_count": 66,
   "id": "51656d2a",
   "metadata": {},
   "outputs": [],
   "source": [
    "import os\n",
    "import numpy as np\n",
    "import pandas as pd\n",
    "\n",
    "import warnings\n",
    "\n",
    "import sklearn.linear_model\n",
    "import sklearn.metrics\n",
    "\n",
    "from matplotlib import pyplot as plt\n",
    "import seaborn as sns\n",
    "%matplotlib inline\n",
    "plt.style.use('seaborn') # pretty matplotlib plots\n",
    "\n",
    "from sklearn.linear_model import LogisticRegression # part a\n",
    "\n",
    "from scipy.ndimage.filters import gaussian_filter # part 2\n",
    "from sklearn import model_selection"
   ]
  },
  {
   "cell_type": "markdown",
   "id": "48875ef0",
   "metadata": {},
   "source": [
    "### Load the dataset."
   ]
  },
  {
   "cell_type": "code",
   "execution_count": 67,
   "id": "49c463d9",
   "metadata": {},
   "outputs": [],
   "source": [
    "# Load the x and y into arrays\n",
    "x_train = np.loadtxt('./data_digits_8_vs_9_noisy/x_train.csv', delimiter=',', skiprows=1)\n",
    "x_test = np.loadtxt('./data_digits_8_vs_9_noisy/x_test.csv', delimiter=',', skiprows=1)\n",
    "\n",
    "y_train = np.loadtxt('./data_digits_8_vs_9_noisy/y_train.csv', delimiter=',', skiprows=1)\n",
    "y_test = np.loadtxt('./data_digits_8_vs_9_noisy/y_test.csv', delimiter=',', skiprows=1)"
   ]
  },
  {
   "cell_type": "markdown",
   "id": "6710bc8a",
   "metadata": {},
   "source": [
    "### 1.1.  Fit Logistic Regression Models to the Training Data\n",
    "\n",
    "   You will fit logistic regression models to the training data, using sklearn’s implementation of the model, with the liblinear solver: https://scikit-learn.org/stable/modules/generated/sklearn.linear_model.LogisticRegression.html\n",
    "\n",
    "   Leaving all other parameters with default values, you will explore what happens when we\n",
    "limit the iterations allowed for the solver to converge on its solution.\n",
    "\n",
    "   For the values i = 1, 2, . . . , 40, build a logistic regression model with the max_iter set to i.\n",
    "Fit each such model to the training data, and keep track of the accuracy of the resulting\n",
    "model (via the model’s own score() function) along with the logistic loss, each measured on\n",
    "the training data.†\n",
    "\n",
    "   Produce two plots, each with the values of i as x-axis and with the accuracy/loss, respectively,\n",
    "as y. Place these plots into your PDF document, with captions labeling each approp"
   ]
  },
  {
   "cell_type": "code",
   "execution_count": 68,
   "id": "d7779591",
   "metadata": {},
   "outputs": [],
   "source": [
    "warnings.filterwarnings('ignore', category=UserWarning, append=True)\n",
    "def log_reg_models_vs_accuracies_and_losses(input_data, output_data):\n",
    "    ''' Performs logistic regression on feature data and calculates \n",
    "        accuracies and losses for those models\n",
    "    \n",
    "    Args\n",
    "    ----\n",
    "    input_data : 1D array of pixel data\n",
    "        Each entry consists of pixel data from a (28 × 28) image with gray-scale values.\n",
    "        These gray-scale values lie between 0.0 (black) and 1.0 (white)\n",
    "        One entry per example in current dataset\n",
    "    output_data : 1D array of floats\n",
    "        Each entry represents the binary value (0 or 1)\n",
    "        One entry per example in current dataset\n",
    "\n",
    "    Returns\n",
    "    -------\n",
    "    iterations : 1D array of ints\n",
    "        Each entry is an iteration value from 1 to 40\n",
    "    accuracies : 1D array of floats\n",
    "        Each entry represents the accuracy of the resulting model\n",
    "    losses : 1D array of floats\n",
    "        Each entry represents the logistic loss of the resulting model\n",
    "    '''\n",
    "    \n",
    "    # initializing local variables\n",
    "    total_iterations = 40\n",
    "    iterations = []\n",
    "    accuracies = []\n",
    "    losses = []\n",
    "    \n",
    "    for i in range(1, (total_iterations + 1)):\n",
    "        \n",
    "        # appending current iteration\n",
    "        iterations.append(i)\n",
    "        \n",
    "        # fitting logistic regression model with max iteration i\n",
    "        log_reg = LogisticRegression(solver='liblinear', max_iter = i)\n",
    "        log_reg.fit(input_data, output_data)\n",
    "        \n",
    "        # calculating accuracy for iteration\n",
    "        curr_score = log_reg.score(input_data, output_data)\n",
    "        accuracies.append(curr_score)\n",
    "        \n",
    "        # calculating logistic loss for iteration\n",
    "        curr_proba = log_reg.predict_proba(input_data)\n",
    "        curr_logloss = sklearn.metrics.log_loss(output_data, curr_proba)\n",
    "        losses.append(curr_logloss)\n",
    "    \n",
    "    return iterations, accuracies, losses\n",
    "\n",
    "# retrieving iterations, accuracy, logistic loss\n",
    "iterations, accuracies, losses = log_reg_models_vs_accuracies_and_losses(x_train, y_train)\n"
   ]
  },
  {
   "cell_type": "code",
   "execution_count": 69,
   "id": "c83bef83",
   "metadata": {},
   "outputs": [
    {
     "data": {
      "image/png": "[encoded data removed]",
      "text/plain": [
       "<Figure size 576x396 with 1 Axes>"
      ]
     },
     "metadata": {},
     "output_type": "display_data"
    }
   ],
   "source": [
    "# Plotting iterations vs accuracy\n",
    "plt.title('Logistic Regression Iterations vs. Accuracy')\n",
    "plt.xlabel('# of iterations');\n",
    "plt.ylabel('accuracy for iteration');\n",
    "plt.plot(iterations, accuracies, color=\"red\");"
   ]
  },
  {
   "cell_type": "code",
   "execution_count": 70,
   "id": "181fd483",
   "metadata": {},
   "outputs": [
    {
     "data": {
      "image/png": "[encoded data removed]",
      "text/plain": [
       "<Figure size 576x396 with 1 Axes>"
      ]
     },
     "metadata": {},
     "output_type": "display_data"
    }
   ],
   "source": [
    "# Plotting iterations vs logistic loss \n",
    "plt.title('Logistic Regression Iterations vs. Logistic Loss')\n",
    "plt.xlabel('# of iterations');\n",
    "plt.ylabel('logistic loss');\n",
    "plt.plot(iterations, losses, color=\"blue\");"
   ]
  },
  {
   "cell_type": "markdown",
   "id": "1a2a4793",
   "metadata": {},
   "source": [
    "### 1.2. Plotting Relationship between Models and Feature Weights\n",
    "\n",
    "After fitting a logistic model, you can access the weights it assigns to each feature\n",
    "in the data using its coef_ attribute. For each of the i models you generated, record the\n",
    "first such weight, which is the one the model applies to feature pixel000 in the input data.\n",
    "Produce a plot with the values of i as x-axis and with the feature weight as y. Place this plot\n",
    "into your PDF document, with a caption labeling it appropriately. Below the plot, discuss\n",
    "the results you are seeing; what do they show, and why?"
   ]
  },
  {
   "cell_type": "code",
   "execution_count": 71,
   "id": "d0369f96",
   "metadata": {},
   "outputs": [],
   "source": [
    "def log_reg_models_vs_feature_weights(input_data, output_data):\n",
    "    ''' Performs logistic regression on feature data and calculates \n",
    "        feature weights (first weights) for those models\n",
    "    \n",
    "    Args\n",
    "    ----\n",
    "    input_data : 1D array of pixel data\n",
    "        Each entry consists of pixel data from a (28 × 28) image with gray-scale values.\n",
    "        These gray-scale values lie between 0.0 (black) and 1.0 (white)\n",
    "        One entry per example in current dataset\n",
    "    output_data : 1D array of floats\n",
    "        Each entry represents the binary value (0 or 1)\n",
    "        One entry per example in current dataset\n",
    "\n",
    "    Returns\n",
    "    -------\n",
    "    iterations : 1D array of ints\n",
    "        Each entry is an iteration value from 1 to 40\n",
    "    feature_weights : 1D array of floats\n",
    "        Each entry represents the first weight pixel000 of the resulting model\n",
    "    '''\n",
    "    \n",
    "    # initializing local variables\n",
    "    total_iterations = 40\n",
    "    iterations = []\n",
    "    feature_weights = []\n",
    "    \n",
    "    for i in range(1, (total_iterations + 1)):\n",
    "        \n",
    "        # appending current iteration\n",
    "        iterations.append(i)\n",
    "        \n",
    "        # fitting logistic regression model with max iteration i\n",
    "        log_reg = LogisticRegression(solver='liblinear', max_iter = i)\n",
    "        log_reg.fit(input_data, output_data)\n",
    "        \n",
    "        # calculating first weights for iteration\n",
    "        curr_first_weight = log_reg.coef_[0][0]\n",
    "        feature_weights.append(curr_first_weight)\n",
    "    \n",
    "    return iterations, feature_weights\n",
    "\n",
    "# retrieving iterations, accuracy, logistic loss\n",
    "iterations, feature_weights = log_reg_models_vs_feature_weights(x_train, y_train)\n"
   ]
  },
  {
   "cell_type": "code",
   "execution_count": 72,
   "id": "7f507529",
   "metadata": {},
   "outputs": [
    {
     "data": {
      "image/png": "[encoded data removed]",
      "text/plain": [
       "<Figure size 576x396 with 1 Axes>"
      ]
     },
     "metadata": {},
     "output_type": "display_data"
    }
   ],
   "source": [
    "plt.title('Logistic Regression Iterations vs. Feature Weight')\n",
    "plt.xlabel('# of iterations');\n",
    "plt.ylabel('feature weight (pixel1000)');\n",
    "plt.plot(iterations, feature_weights, color=\"red\");"
   ]
  },
  {
   "cell_type": "markdown",
   "id": "11929dc3",
   "metadata": {},
   "source": [
    "### 1.3.  Explore Different Values of Regularization Penalty\n",
    "\n",
    "As in prior homework assignments, you will explore different values of regularization\n",
    "penalty for the logistic model.‡ Your code should explore a range of values for this parameter,\n",
    "using a regularly-spaced grid of values:\n",
    "\n",
    "C_grid = np.logspace(-9, 6, 31)\n",
    "\n",
    "for C in C_grid:\n",
    "    \n",
    "    # Build and evaluate model for each value C\n",
    "    \n",
    "For each such value of C create a model and fit it to the training data, and then compute the\n",
    "log loss of that model on the test data. Determine which value gives you the least loss on the\n",
    "test data. Record that value, along with the accuracy score of the model, in your PDF. Also\n",
    "include a table for the confusion matrix of that model on the test data."
   ]
  },
  {
   "cell_type": "code",
   "execution_count": 73,
   "id": "d0ac0ab4",
   "metadata": {},
   "outputs": [
    {
     "name": "stdout",
     "output_type": "stream",
     "text": [
      "The minimum log loss is 0.08968955614249495.\n",
      "The corresponding inverse penalty value is 0.03162277660168379.\n",
      "The corresponding accuracy value is 0.9808474576271187.\n",
      "Predicted    0    1\n",
      "True               \n",
      "0          942   32\n",
      "1           33  976\n"
     ]
    }
   ],
   "source": [
    "def log_reg_and_inverse_penalty(training_input, training_output, testing_input, y_true):\n",
    "    ''' Performs logistic regression on feature data and calculates\n",
    "        logistic loss for each value of a regularly-spaced grid of values\n",
    "       \n",
    "    Args\n",
    "    ----\n",
    "    training_input : 1D array of pixel data\n",
    "        Each entry consists of pixel data from a (28 × 28) image with gray-scale values.\n",
    "        These gray-scale values lie between 0.0 (black) and 1.0 (white)\n",
    "        One entry per example in training dataset\n",
    "    training_output : 1D array of floats\n",
    "        Each entry represents the binary value (0 or 1)\n",
    "        One entry per example in training dataset\n",
    "    testing_input : 1D array of pixel data\n",
    "        Each entry consists of pixel data from a (28 × 28) image with gray-scale values.\n",
    "        These gray-scale values lie between 0.0 (black) and 1.0 (white)\n",
    "        One entry per example in testing dataset\n",
    "    y_true : 1D array of floats\n",
    "        Each entry represents the binary value (0 or 1)\n",
    "        One entry per example in testing dataset\n",
    "\n",
    "    Returns\n",
    "    -------\n",
    "    cm_df : Pandas DataFrame\n",
    "        Can be printed like print(cm_df) to easily display results\n",
    "    FP_samples: 1D array of images\n",
    "        9 sample images of false positives\n",
    "    FN_samples: 1D array of images\n",
    "        9 sample images of false negatives\n",
    "    coefficient : Pandas DataFrame\n",
    "        Can be printed like print(cm_df) to easily display results\n",
    "    '''\n",
    "    \n",
    "    # initializing local variables\n",
    "    C_grid = np.logspace(-9, 6, 31)\n",
    "    C_values = []\n",
    "    scores = []\n",
    "    losses = []\n",
    "    \n",
    "    # build and evaluate model for each value C\n",
    "    for C_val in C_grid:\n",
    "\n",
    "        # appending current c value\n",
    "        C_values.append(C_val)\n",
    "        \n",
    "        # fitting logistic regression model with current C val\n",
    "        log_reg = LogisticRegression(solver='liblinear', C = C_val)\n",
    "        log_reg.fit(training_input, training_output)\n",
    "        \n",
    "        # calculating accuracy\n",
    "        curr_score = log_reg.score(training_input, training_output)\n",
    "        scores.append(curr_score)\n",
    "        \n",
    "        # calculating logistic loss for testing data\n",
    "        curr_proba = log_reg.predict_proba(testing_input)\n",
    "        curr_logloss = sklearn.metrics.log_loss(y_true, curr_proba)\n",
    "        losses.append(curr_logloss)\n",
    "    \n",
    "    # find least logistic loss and corresponding C value and accuracy\n",
    "    least_logloss = min(losses)\n",
    "    C_for_least_logloss = C_values[losses.index(min(losses))]\n",
    "    score_for_least_logloss = scores[losses.index(min(losses))]\n",
    "    \n",
    "    # printing least logistic loss and corresponding C value and accuracy\n",
    "    print(\"The minimum log loss is \" + str(least_logloss) + \".\")\n",
    "    print(\"The corresponding inverse penalty value is \" + str(C_for_least_logloss) + \".\")\n",
    "    print(\"The corresponding accuracy value is \" + str(score_for_least_logloss) + \".\")\n",
    "    \n",
    "    # finding model/accuracy with C value for least log loss\n",
    "    log_reg = LogisticRegression(solver='liblinear', C = C_for_least_logloss)\n",
    "    log_reg.fit(training_input, training_output)\n",
    "    y_proba1 = log_reg.predict(testing_input)\n",
    "    \n",
    "    # For Part 1.4: retrieving 9 sample images that are false positives/false negatives\n",
    "    FP = []\n",
    "    FN = []\n",
    "    for i in range(len(y_true)):\n",
    "        if y_proba1[i] == 1.0 and y_true[i] == 0.0:\n",
    "            FP.append(np.asarray(testing_input[i]))\n",
    "        elif y_proba1[i] == 0.0 and y_true[i] == 1.0:\n",
    "            FN.append(np.asarray(testing_input[i]))\n",
    "            \n",
    "    FP_samples = FP[:9]\n",
    "    FN_samples = FN[:9]\n",
    "    \n",
    "    # For Part 1.5: retrieving weights assigned to feature of log_reg\n",
    "    coef = log_reg.coef_[0]\n",
    "     \n",
    "    # calculating confusion matrix of y_true and y_proba1\n",
    "    cm = sklearn.metrics.confusion_matrix(y_true, y_proba1)\n",
    "    cm_df = pd.DataFrame(data=cm, columns=[0, 1], index=[0, 1])\n",
    "    cm_df.columns.name = 'Predicted'\n",
    "    cm_df.index.name = 'True'\n",
    "    \n",
    "    return cm_df, FP_samples, FN_samples, coef\n",
    "\n",
    "# retrieving confusion matrix, false positive/negative samples, weights assigned to feature\n",
    "cm_inverse, FP_samples, FN_samples, coef_inverse = log_reg_and_inverse_penalty(x_train, y_train, x_test, y_test)\n",
    "print(cm_inverse)\n"
   ]
  },
  {
   "cell_type": "markdown",
   "id": "71febe8d",
   "metadata": {},
   "source": [
    "### 1.4. Analyze Best Model's Mistakes\n",
    "\n",
    "Analyze some of the mistakes that your best model makes. Produce two plots, one\n",
    "consisting of 9 sample images that are false positives in the test set, and one consisting of 9\n",
    "false negatives. You can display the images by converting the pixel data using the matplotlib\n",
    "function imshow(), using the Grey colormap, with vmin=0.0 and vmax=1.0. Place each plot\n",
    "into your PDF as a properly captioned figure. Below the figures, discuss the results you are\n",
    "seeing. What mistakes is the classifier making?"
   ]
  },
  {
   "cell_type": "code",
   "execution_count": 74,
   "id": "dfcb41d3",
   "metadata": {},
   "outputs": [],
   "source": [
    "# reshaping each 1D array of pixels into a 28 x 28 array\n",
    "def reshape_dp(arr):\n",
    "    ''' Reshaping a 1D array of pixels into a 28 x 28 array of pixels\n",
    "       \n",
    "    Args\n",
    "    ----\n",
    "    arr : 1D array of pixel data\n",
    "        Each entry consists of pixel data from a (28 × 28) image with gray-scale values.\n",
    "        These gray-scale values lie between 0.0 (black) and 1.0 (white)\n",
    "        One entry per example in testing dataset\n",
    "\n",
    "    Returns\n",
    "    -------\n",
    "    image : 28 x 28 array of pixels\n",
    "        Each entry consists of pixel data from a (28 × 28) image with gray-scale values.\n",
    "        These gray-scale values lie between 0.0 (black) and 1.0 (white)\n",
    "        One entry per example in testing dataset\n",
    "    '''\n",
    "    \n",
    "    # initialize local variables\n",
    "    reshaped_image = np.zeros([28, 28])\n",
    "    counter  = 0\n",
    "    \n",
    "    # iterate through 28 x 28\n",
    "    for i in range(len(reshaped_image)):\n",
    "        for j in range(len(reshaped_image[i])):\n",
    "            \n",
    "            # populate image\n",
    "            temp = arr[counter]\n",
    "            reshaped_image[i][j] = temp\n",
    "            counter += 1\n",
    "            \n",
    "    return reshaped_image\n",
    "\n",
    "\n",
    "# reshaping data of 1D arrays of pixels into data of 28 x 28 arrays\n",
    "def reshape_data(data):\n",
    "    ''' Reshaping data of 1D arrays of pixels into data of 28 x 28 arrays\n",
    "       \n",
    "    Args\n",
    "    ----\n",
    "    data : 1D array of pixel arrays\n",
    "        Each entry consists of an array of pixel data from a (28 × 28) image with gray-scale values.\n",
    "        These gray-scale values lie between 0.0 (black) and 1.0 (white)\n",
    "        One entry per example in testing dataset\n",
    "\n",
    "    Returns\n",
    "    -------\n",
    "    reshaped_images : 1D array of 28 x 28 pixel arrays\n",
    "        Each entry consists of a data from a (28 × 28) image with gray-scale values.\n",
    "        These gray-scale values lie between 0.0 (black) and 1.0 (white)\n",
    "        One entry per example in testing dataset\n",
    "    '''\n",
    "    \n",
    "    # intitialize local variables\n",
    "    reshaped_images = []\n",
    "    \n",
    "    # populate images\n",
    "    for i in range(len(data)):\n",
    "        reshaped_images.append(reshape_dp(data[i]))\n",
    "\n",
    "    return reshaped_images\n",
    "\n",
    "# retrieve FP and FN data\n",
    "FP_data = reshape_data(FP_samples)\n",
    "FN_data = reshape_data(FN_samples)\n"
   ]
  },
  {
   "cell_type": "code",
   "execution_count": 75,
   "id": "d52e7b4e",
   "metadata": {},
   "outputs": [
    {
     "data": {
      "image/png": "[encoded data removed]",
      "text/plain": [
       "<Figure size 576x396 with 9 Axes>"
      ]
     },
     "metadata": {},
     "output_type": "display_data"
    }
   ],
   "source": [
    "# False Positives\n",
    "figure1 = plt.figure()\n",
    "images = []\n",
    "\n",
    "for i in range(len(FP_samples)):\n",
    "    images.append(figure1.add_subplot(3,3,i+1))\n",
    "    images[i].imshow(FP_data[i], cmap='Greys', vmin=0.0, vmax=1.0)"
   ]
  },
  {
   "cell_type": "code",
   "execution_count": 76,
   "id": "952362e5",
   "metadata": {},
   "outputs": [
    {
     "data": {
      "image/png": "[encoded data removed]",
      "text/plain": [
       "<Figure size 576x396 with 9 Axes>"
      ]
     },
     "metadata": {},
     "output_type": "display_data"
    }
   ],
   "source": [
    "# False Negatives\n",
    "figure2 = plt.figure()\n",
    "images = []\n",
    "\n",
    "for i in range(len(FN_samples)):\n",
    "    images.append(figure2.add_subplot(3,3,i+1))\n",
    "    images[i].imshow(FN_data[i], cmap='Greys', vmin=0.0, vmax=1.0)"
   ]
  },
  {
   "cell_type": "markdown",
   "id": "9bdbcd9a",
   "metadata": {},
   "source": [
    "### Discussion of Plot Results:\n",
    "\n",
    "The sample images that the classifier labeled as false positives demonstrate the mistakes that the classifier is making. Since our output data is a binary label, we expect that the classifier labels images of 8's as 0's and labels images of 9's as 1's. This means that false positives are images of 8's that the classifier labeled as 9's. Thus, it seems that the classifier resulted in false positives when there were 8's that looked like 9's. Specifically, 8's that had wide tops and skinny bottoms were misclassified as 9's. Therefore, the classifier generally makes mistakes on poorly drawn data.\n",
    "\n",
    "Additionally, the plots of our sample images that the classifier labeled as false negatives demonstrate other mistakes that the classifier is making. Since our output data is a binary label, we expect that the classifier labels images of 8's as 0's and labels images of 9's as 1's. This means that false negatives are images of 9's that the classifier labeled as 8's. Thus, it seems that the classifier resulted in false negatives when there were 9's that looked like 8's. Specifically, 9's that were wide and had long hooks were misclassified as 8's. Therefore, the classifier generally makes mistakes on poorly drawn data."
   ]
  },
  {
   "cell_type": "markdown",
   "id": "ba3f39b0",
   "metadata": {},
   "source": [
    "### 1.5. Analyze Final Weights Produced by Your Classifier\n",
    "\n",
    "Analyze all of the final weights produced by your classifier. Reshape the weight\n",
    "coefficients into a (28 × 28) matrix, corresponding to the pixels of the original images, and\n",
    "plot the result using imshow(), with colormap RdYlBu, vmin=-0.5, and vmax=0.5. Place\n",
    "this plot into your PDF as a properly captioned figure. Below it, discuss what it shows.\n",
    "Which pixels correspond to an 8 (have negative weights), and which correspond to a 9 (have\n",
    "positive weights)? Why do you think this is the case?"
   ]
  },
  {
   "cell_type": "code",
   "execution_count": 77,
   "id": "41914b8a",
   "metadata": {},
   "outputs": [
    {
     "data": {
      "text/plain": [
       "<matplotlib.image.AxesImage at 0x7fdb9b0c1e80>"
      ]
     },
     "execution_count": 77,
     "metadata": {},
     "output_type": "execute_result"
    },
    {
     "data": {
      "image/png": "[encoded data removed]",
      "text/plain": [
       "<Figure size 576x396 with 1 Axes>"
      ]
     },
     "metadata": {},
     "output_type": "display_data"
    }
   ],
   "source": [
    "coefficients = coef_inverse\n",
    "coefficients = reshape_dp(coefficients)\n",
    "\n",
    "# Image Representation of Weights\n",
    "plt.imshow(coefficients, cmap='RdYlBu', vmin=-0.5, vmax=0.5)"
   ]
  },
  {
   "cell_type": "markdown",
   "id": "58a87938",
   "metadata": {},
   "source": [
    "### Discussion of Plot Results:\n",
    "\n",
    "The sample images that the classifier labeled as false positives demonstrate the mistakes that the classifier is making. Since our output data is a binary label, we expect that the classifier labels images of 8's as 0's and labels images of 9's as 1's. This means that false positives are images of 8's that the classifier labeled as 9's. Thus, it seems that the classifier resulted in false positives when there were 8's that looked like 9's. Specifically, 8's that had wide tops and skinny bottoms were misclassified as 9's. Therefore, the classifier generally makes mistakes on poorly drawn data.\n",
    "\n",
    "Additionally, the plots of our sample images that the classifier labeled as false negatives demonstrate other mistakes that the classifier is making. Since our output data is a binary label, we expect that the classifier labels images of 8's as 0's and labels images of 9's as 1's. This means that false negatives are images of 9's that the classifier labeled as 8's. Thus, it seems that the classifier resulted in false negatives when there were 9's that looked like 8's. Specifically, 9's that were wide and had long hooks were misclassified as 8's. Therefore, the classifier generally makes mistakes on poorly drawn data."
   ]
  },
  {
   "cell_type": "markdown",
   "id": "85f7f265",
   "metadata": {},
   "source": [
    "## Part Two: Trousers v. Dresses\n",
    "\n",
    "Description:\n",
    "\n",
    "We have also provided some image data, in the same format as before, of trousers (output label 1)\n",
    "and dresses (output label 0).¶ We have again given you input and output data for a training set,\n",
    "along with input data only for a test set. Your task is to build a logistic regression classifier for\n",
    "this data. Your PDF for this part will describe your approach and the results you see.\n",
    "\n",
    "When doing regression, you should explore different feature transformations, transforming the\n",
    "input features (in any way you see fit) that are given to the regression classifier. Your PDF should\n",
    "explain, as completely as you are able, what feature transformations you tried, and what processes\n",
    "you used to build your classifier (parameters you tried like regularization penalty, etc.), along with\n",
    "the reasoning behind your decisions. Your work should contain at least two figures comparing the\n",
    "results you get by regression using the original features of the data and some modified features.\n",
    "Your discussion should include the error rate on the testing data for various models, provided when\n",
    "you submit the model’s predictions on that data (see next section). Overall, the entire write-up for\n",
    "this part of the assignment should take 2–3 pages, including figures.\n",
    "\n",
    "For this part of the assignment, process is more important than raw results. A well-designed\n",
    "set of tests, with coherent explanation and careful comparison of results will be worth more than\n",
    "something that achieves 0 error, but is not explained clearly.\n",
    "\n",
    "You may use any transformations of the existing data you like. Do not use any additional sources\n",
    "of data; use only the input sets provided, and feature transformations on those sets. Be creative\n",
    "in thinking about how to transform data; some ideas you might consider (we encourage you to try\n",
    "other things as well):\n",
    "\n",
    "• Consider things like histograms of parts of the data.\n",
    "\n",
    "• Consider adding features that count overall numbers of white or black pixels.\n",
    "\n",
    "• Consider adding features that capture spatial patterns in the original data.\n",
    "\n",
    "• Consider exploring data augmentation, where you add to your data set via transformations\n",
    "of the data. For example, if you flip each image horizontally, you can double the training set\n",
    "size without needing fundamentally new data."
   ]
  },
  {
   "cell_type": "markdown",
   "id": "f64ab062",
   "metadata": {},
   "source": [
    "### Load the dataset."
   ]
  },
  {
   "cell_type": "code",
   "execution_count": 270,
   "id": "878b2aa9",
   "metadata": {},
   "outputs": [],
   "source": [
    "x_train_clothes = np.loadtxt('./data_trouser_dress/troudress_train_x.csv', delimiter=',', skiprows=1)\n",
    "x_test_clothes = np.loadtxt('./data_trouser_dress/troudress_test_x.csv', delimiter=',', skiprows=1)\n",
    "\n",
    "y_train_clothes = np.loadtxt('./data_trouser_dress/troudress_train_y.csv', delimiter=',', skiprows=1)\n"
   ]
  },
  {
   "cell_type": "markdown",
   "id": "fda91fd0",
   "metadata": {},
   "source": [
    "## 2.1. Logistic Regression Model without Feature Transformation or Parameter Tuning"
   ]
  },
  {
   "cell_type": "code",
   "execution_count": 287,
   "id": "194ee4a4",
   "metadata": {},
   "outputs": [
    {
     "name": "stdout",
     "output_type": "stream",
     "text": [
      "CPU times: user 1.21 s, sys: 46.3 ms, total: 1.26 s\n",
      "Wall time: 1.23 s\n"
     ]
    }
   ],
   "source": [
    "%%time\n",
    "\n",
    "# Error Rate: 0.0675\n",
    "# AUROC: 0.975417\n",
    "# Time: 1.2 s\n",
    "\n",
    "def log_reg_no_feature_transformation(training_input, training_output, testing_input):\n",
    "    ''' Performs logistic regression on feature data representing dresses/trouser images\n",
    "    \n",
    "    Args\n",
    "    ----\n",
    "    training_input : 1D array of pixel data\n",
    "        Each entry consists of pixel data from a (28 × 28) image with gray-scale values.\n",
    "        These gray-scale values lie between 0.0 (black) and 1.0 (white)\n",
    "        One entry per example in training dataset\n",
    "    training_output : 1D array of floats\n",
    "        Each entry represents the binary value (0 or 1)\n",
    "        One entry per example in training dataset\n",
    "    testing_input : 1D array of pixel data\n",
    "        Each entry consists of pixel data from a (28 × 28) image with gray-scale values.\n",
    "        These gray-scale values lie between 0.0 (black) and 1.0 (white)\n",
    "        One entry per example in testing dataset\n",
    "\n",
    "    Returns\n",
    "    -------\n",
    "    Nothing : \n",
    "        Creates txt file y_proba1.txt\n",
    "        txt file represents one probability value per line/example from testing set\n",
    "        \n",
    "    '''\n",
    "        \n",
    "    # fitting logistic regression model\n",
    "    log_reg = LogisticRegression(solver='liblinear')\n",
    "    log_reg.fit(training_input, training_output)\n",
    "        \n",
    "    # calculating logistic loss\n",
    "    probability = log_reg.predict_proba(testing_input)[:, 1]\n",
    "    \n",
    "    # save to txt file\n",
    "    np.savetxt('yproba1_test.txt', probability)\n",
    "\n",
    "# fitting logistic model with no feature transformation\n",
    "log_reg_no_feature_transformation(x_train_clothes, y_train_clothes, x_test_clothes)"
   ]
  },
  {
   "cell_type": "markdown",
   "id": "8b0635ea",
   "metadata": {},
   "source": [
    "## 2.2. Logistic Regression Model with Splitting Test and Training Sets 2:1"
   ]
  },
  {
   "cell_type": "code",
   "execution_count": 288,
   "id": "27cfe51b",
   "metadata": {},
   "outputs": [
    {
     "name": "stdout",
     "output_type": "stream",
     "text": [
      "CPU times: user 825 ms, sys: 31.8 ms, total: 857 ms\n",
      "Wall time: 806 ms\n"
     ]
    }
   ],
   "source": [
    "%%time\n",
    "\n",
    "# Error Rate: 0.07799999999999996\n",
    "# AUROC: 0.9711170000000001\n",
    "# Time: 842 ms\n",
    "\n",
    "def log_reg_split_2_1(training_input, training_output, testing_input):\n",
    "    ''' Performs logistic regression on feature data representing dresses/trouser images with horizontal flips\n",
    "    \n",
    "    Args\n",
    "    ----\n",
    "    training_input : 1D array of pixel data\n",
    "        Each entry consists of pixel data from a (28 × 28) image with gray-scale values.\n",
    "        These gray-scale values lie between 0.0 (black) and 1.0 (white)\n",
    "        One entry per example in training dataset\n",
    "    training_output : 1D array of floats\n",
    "        Each entry represents the binary value (0 or 1)\n",
    "        One entry per example in training dataset\n",
    "    testing_input : 1D array of pixel data\n",
    "        Each entry consists of pixel data from a (28 × 28) image with gray-scale values.\n",
    "        These gray-scale values lie between 0.0 (black) and 1.0 (white)\n",
    "        One entry per example in testing dataset\n",
    "\n",
    "    Returns\n",
    "    -------\n",
    "    Nothing : \n",
    "        Creates txt file y_proba1.txt\n",
    "        txt file represents one probability value per line/example from testing set\n",
    "        \n",
    "    '''\n",
    "    \n",
    "    # splitting training and testing set (2:1)\n",
    "    test_size = 0.33\n",
    "    seed = 6\n",
    "    x_train, x_test, y_train, y_test = model_selection.train_test_split(training_input, training_output, test_size=test_size, random_state=seed)\n",
    "    \n",
    "    # fitting logistic regression model\n",
    "    log_reg = LogisticRegression(solver='liblinear')\n",
    "    log_reg.fit(x_train, y_train)\n",
    "        \n",
    "    # calculating logistic loss\n",
    "    probability = log_reg.predict_proba(testing_input)[:, 1]\n",
    "    \n",
    "    # save to txt file\n",
    "    np.savetxt('yproba1_test.txt', probability)\n",
    "\n",
    "# fitting logistic model with splitting training and testing sets 2:1\n",
    "log_reg_split_2_1(x_train_clothes, y_train_clothes, x_test_clothes)"
   ]
  },
  {
   "cell_type": "markdown",
   "id": "2681d55a",
   "metadata": {},
   "source": [
    "## 2.3. Logistic Regression Model with K-fold Cross Validation"
   ]
  },
  {
   "cell_type": "code",
   "execution_count": 289,
   "id": "5397b464",
   "metadata": {},
   "outputs": [
    {
     "name": "stdout",
     "output_type": "stream",
     "text": [
      "CPU times: user 7.21 s, sys: 258 ms, total: 7.47 s\n",
      "Wall time: 7.45 s\n"
     ]
    }
   ],
   "source": [
    "%%time\n",
    "\n",
    "# Error Rate: 0.0675\n",
    "# AUROC: 0.9748030000000001\n",
    "# Time: 6.39 s\n",
    "\n",
    "def log_reg_k_fold(training_input, training_output, testing_input):\n",
    "    ''' Performs logistic regression on feature data representing dresses/trouser images with horizontal flips\n",
    "    \n",
    "    Args\n",
    "    ----\n",
    "    training_input : 1D array of pixel data\n",
    "        Each entry consists of pixel data from a (28 × 28) image with gray-scale values.\n",
    "        These gray-scale values lie between 0.0 (black) and 1.0 (white)\n",
    "        One entry per example in training dataset\n",
    "    training_output : 1D array of floats\n",
    "        Each entry represents the binary value (0 or 1)\n",
    "        One entry per example in training dataset\n",
    "    testing_input : 1D array of pixel data\n",
    "        Each entry consists of pixel data from a (28 × 28) image with gray-scale values.\n",
    "        These gray-scale values lie between 0.0 (black) and 1.0 (white)\n",
    "        One entry per example in testing dataset\n",
    "\n",
    "    Returns\n",
    "    -------\n",
    "    Nothing : \n",
    "        Creates txt file y_proba1.txt\n",
    "        txt file represents one probability value per line/example from testing set\n",
    "        \n",
    "    '''\n",
    "\n",
    "    # fitting logistic regression model with k-fold cross validation (10)\n",
    "    log_reg = LogisticRegression(solver='liblinear')\n",
    "    # 7 was best\n",
    "    kfold = model_selection.KFold(n_splits=7)\n",
    "    for train_index, test_index in kfold.split(training_input):\n",
    "        x_train, x_test, y_train, y_test = training_input[train_index], training_input[test_index], training_output[train_index], training_output[test_index]\n",
    "        log_reg.fit(x_train, y_train)\n",
    "        \n",
    "    # calculating logistic loss\n",
    "    probability = log_reg.predict_proba(testing_input)[:, 1]\n",
    "    \n",
    "    # save to txt file\n",
    "    np.savetxt('yproba1_test.txt', probability)\n",
    "\n",
    "# fitting logistic model with k-fold cross validation\n",
    "log_reg_k_fold(x_train_clothes, y_train_clothes, x_test_clothes)"
   ]
  },
  {
   "cell_type": "markdown",
   "id": "29a7068b",
   "metadata": {},
   "source": [
    "## 2.4. Logistic Regression Model with Total Black Pixels Feature"
   ]
  },
  {
   "cell_type": "code",
   "execution_count": 290,
   "id": "a2e4721e",
   "metadata": {},
   "outputs": [
    {
     "name": "stdout",
     "output_type": "stream",
     "text": [
      "CPU times: user 9.85 s, sys: 296 ms, total: 10.1 s\n",
      "Wall time: 9.39 s\n"
     ]
    }
   ],
   "source": [
    "%%time\n",
    "\n",
    "# Error Rate: 0.0655\n",
    "# AUROC: 0.975356\n",
    "# Time: 9 s\n",
    "\n",
    "def add_black_pixels_feature(input_set):\n",
    "    ''' Adds total black pixels to each input in the set\n",
    "    \n",
    "    Args\n",
    "    ----\n",
    "    input_set : 1D array of pixel data\n",
    "        Each entry consists of pixel data from a (28 × 28) image with gray-scale values.\n",
    "        These gray-scale values lie between 0.0 (black) and 1.0 (white)\n",
    "        One entry per example in training dataset\n",
    "\n",
    "    Returns\n",
    "    -------\n",
    "    result : 1D array of pixel data\n",
    "        Each entry except the last consists of pixel data from a (28 × 28) image with gray-scale values.\n",
    "        Each last entry consists of the total black pixels in that set\n",
    "        These gray-scale values lie between 0.0 (black) and 1.0 (white)\n",
    "        One entry per example in training dataset\n",
    "        \n",
    "    '''\n",
    "    result = []\n",
    "    \n",
    "    # go through each input\n",
    "    for i in range(len(input_set)):\n",
    "        image = []\n",
    "        black = 0\n",
    "        \n",
    "        # go through image and track total black pixels\n",
    "        for j in range(len(input_set[i])):\n",
    "            image.append(input_set[i][j])\n",
    "            if input_set[i][j] == 0:\n",
    "                black += 1\n",
    "         \n",
    "        # add all features to result\n",
    "        image.append(black)\n",
    "        result.append(image)\n",
    "        \n",
    "    return np.array(result)\n",
    "\n",
    "\n",
    "# add black pixels as feature\n",
    "x_train_clothes_black = add_black_pixels_feature(x_train_clothes)\n",
    "x_test_clothes_black = add_black_pixels_feature(x_test_clothes)\n",
    "\n",
    "\n",
    "def log_reg_count_black_pixels(training_input, training_output, testing_input):\n",
    "    ''' Performs logistic regression on feature data representing dresses/trouser images with horizontal flips\n",
    "    \n",
    "    Args\n",
    "    ----\n",
    "    training_input : 1D array of pixel data\n",
    "        Each entry consists of pixel data from a (28 × 28) image with gray-scale values.\n",
    "        These gray-scale values lie between 0.0 (black) and 1.0 (white)\n",
    "        One entry per example in training dataset\n",
    "    training_output : 1D array of floats\n",
    "        Each entry represents the binary value (0 or 1)\n",
    "        One entry per example in training dataset\n",
    "    testing_input : 1D array of pixel data\n",
    "        Each entry consists of pixel data from a (28 × 28) image with gray-scale values.\n",
    "        These gray-scale values lie between 0.0 (black) and 1.0 (white)\n",
    "        One entry per example in testing dataset\n",
    "\n",
    "    Returns\n",
    "    -------\n",
    "    Nothing : \n",
    "        Creates txt file y_proba1.txt\n",
    "        txt file represents one probability value per line/example from testing set\n",
    "        \n",
    "    '''\n",
    "    # fitting logistic regression model\n",
    "    log_reg = LogisticRegression(solver='liblinear')\n",
    "    log_reg.fit(training_input, training_output)\n",
    "        \n",
    "    # calculating logistic loss\n",
    "    probability = log_reg.predict_proba(testing_input)[:, 1]\n",
    "    \n",
    "    # save to txt file\n",
    "    np.savetxt('yproba1_test.txt', probability)\n",
    "\n",
    "# fitting logistic model with black pixels feature\n",
    "log_reg_count_black_pixels(x_train_clothes_black, y_train_clothes, x_test_clothes_black)"
   ]
  },
  {
   "cell_type": "markdown",
   "id": "8c3b0371",
   "metadata": {},
   "source": [
    "## 2.5. Logistic Regression Model with Total Black Pixels Feature and K-Fold Cross Validation"
   ]
  },
  {
   "cell_type": "code",
   "execution_count": 291,
   "id": "716fb1a7",
   "metadata": {},
   "outputs": [
    {
     "name": "stdout",
     "output_type": "stream",
     "text": [
      "CPU times: user 9.83 s, sys: 279 ms, total: 10.1 s\n",
      "Wall time: 10.1 s\n"
     ]
    }
   ],
   "source": [
    "%%time\n",
    "\n",
    "# Error Rate: 0.06799999999999995\n",
    "# AUROC: 0.9748319999999999\n",
    "# Time: 9.37 s\n",
    "\n",
    "# fitting logistic model with black pixels feature and k-fold\n",
    "log_reg_k_fold(x_train_clothes_black, y_train_clothes, x_test_clothes_black)"
   ]
  },
  {
   "cell_type": "markdown",
   "id": "08205fe8",
   "metadata": {},
   "source": [
    "## 2.6. Logistic Regression Model with Total White Pixels Feature"
   ]
  },
  {
   "cell_type": "code",
   "execution_count": 293,
   "id": "ece304b8",
   "metadata": {},
   "outputs": [
    {
     "name": "stdout",
     "output_type": "stream",
     "text": [
      "CPU times: user 9.4 s, sys: 261 ms, total: 9.66 s\n",
      "Wall time: 8.86 s\n"
     ]
    }
   ],
   "source": [
    "%%time\n",
    "\n",
    "# Error Rate: 0.0665\n",
    "# AUROC: 0.975471\n",
    "# time: 8.64 s\n",
    "\n",
    "def add_white_pixels_feature(input_set):\n",
    "    ''' Adds total white pixels to each input in the set\n",
    "    \n",
    "    Args\n",
    "    ----\n",
    "    input_set : 1D array of pixel data\n",
    "        Each entry consists of pixel data from a (28 × 28) image with gray-scale values.\n",
    "        These gray-scale values lie between 0.0 (black) and 1.0 (white)\n",
    "        One entry per example in training dataset\n",
    "\n",
    "    Returns\n",
    "    -------\n",
    "    result : 1D array of pixel data\n",
    "        Each entry except the last consists of pixel data from a (28 × 28) image with gray-scale values.\n",
    "        Each last entry consists of the total white pixels in that set\n",
    "        These gray-scale values lie between 0.0 (black) and 1.0 (white)\n",
    "        One entry per example in training dataset\n",
    "        \n",
    "    '''\n",
    "    result = []\n",
    "    \n",
    "    # go through each input\n",
    "    for i in range(len(input_set)):\n",
    "        image = []\n",
    "        white = 0\n",
    "        \n",
    "        # go through image and track total white pixels\n",
    "        for j in range(len(input_set[i])):\n",
    "            image.append(input_set[i][j])\n",
    "            if input_set[i][j] == 1:\n",
    "                white += 1\n",
    "         \n",
    "        # add all features to result\n",
    "        image.append(white)\n",
    "        result.append(image)\n",
    "        \n",
    "    return np.array(result)\n",
    "\n",
    "\n",
    "# add white pixels as feature\n",
    "x_train_clothes_white = add_white_pixels_feature(x_train_clothes)\n",
    "x_test_clothes_white = add_white_pixels_feature(x_test_clothes)\n",
    "\n",
    "\n",
    "def log_reg_count_white_pixels(training_input, training_output, testing_input):\n",
    "    ''' Performs logistic regression on feature data representing dresses/trouser images with horizontal flips\n",
    "    \n",
    "    Args\n",
    "    ----\n",
    "    training_input : 1D array of pixel data\n",
    "        Each entry consists of pixel data from a (28 × 28) image with gray-scale values.\n",
    "        These gray-scale values lie between 0.0 (black) and 1.0 (white)\n",
    "        One entry per example in training dataset\n",
    "    training_output : 1D array of floats\n",
    "        Each entry represents the binary value (0 or 1)\n",
    "        One entry per example in training dataset\n",
    "    testing_input : 1D array of pixel data\n",
    "        Each entry consists of pixel data from a (28 × 28) image with gray-scale values.\n",
    "        These gray-scale values lie between 0.0 (black) and 1.0 (white)\n",
    "        One entry per example in testing dataset\n",
    "\n",
    "    Returns\n",
    "    -------\n",
    "    Nothing : \n",
    "        Creates txt file y_proba1.txt\n",
    "        txt file represents one probability value per line/example from testing set\n",
    "        \n",
    "    '''\n",
    "    # fitting logistic regression model\n",
    "    log_reg = LogisticRegression(solver='liblinear')\n",
    "    log_reg.fit(training_input, training_output)\n",
    "        \n",
    "    # calculating logistic loss\n",
    "    probability = log_reg.predict_proba(testing_input)[:, 1]\n",
    "    \n",
    "    # save to txt file\n",
    "    np.savetxt('yproba1_test.txt', probability)\n",
    "\n",
    "# fitting logistic model with white pixels feature\n",
    "log_reg_count_white_pixels(x_train_clothes_white, y_train_clothes, x_test_clothes_white)"
   ]
  },
  {
   "cell_type": "markdown",
   "id": "7eaa98c3",
   "metadata": {},
   "source": [
    "## 2.7. Logistic Regression Model with Total White Pixels Feature and K-Fold Cross Validation"
   ]
  },
  {
   "cell_type": "code",
   "execution_count": 294,
   "id": "d9654978",
   "metadata": {},
   "outputs": [
    {
     "name": "stdout",
     "output_type": "stream",
     "text": [
      "CPU times: user 8.54 s, sys: 269 ms, total: 8.8 s\n",
      "Wall time: 7.95 s\n"
     ]
    }
   ],
   "source": [
    "%%time\n",
    "\n",
    "# Error Rate: 0.06799999999999995\n",
    "# AUROC: 0.974727\n",
    "# Time: 7.91 s\n",
    "\n",
    "# fitting logistic model with white pixels feature and k-fold\n",
    "log_reg_k_fold(x_train_clothes_white, y_train_clothes, x_test_clothes_white)"
   ]
  },
  {
   "cell_type": "markdown",
   "id": "d5dc9d36",
   "metadata": {},
   "source": [
    "## 2.8. Logistic Regression Model with Total Black and White Pixels Features"
   ]
  },
  {
   "cell_type": "code",
   "execution_count": 295,
   "id": "1c40f0ca",
   "metadata": {},
   "outputs": [
    {
     "name": "stdout",
     "output_type": "stream",
     "text": [
      "CPU times: user 10.4 s, sys: 207 ms, total: 10.6 s\n",
      "Wall time: 10.6 s\n"
     ]
    }
   ],
   "source": [
    "%%time\n",
    "\n",
    "# Error Rate: 0.0655\n",
    "# AUROC: 0.975356\n",
    "# Time: 9 s\n",
    "\n",
    "def add_black_and_white_pixels_feature(input_set):\n",
    "    ''' Adds total black pixels to each input in the set\n",
    "    \n",
    "    Args\n",
    "    ----\n",
    "    input_set : 1D array of pixel data\n",
    "        Each entry consists of pixel data from a (28 × 28) image with gray-scale values.\n",
    "        These gray-scale values lie between 0.0 (black) and 1.0 (white)\n",
    "        One entry per example in training dataset\n",
    "\n",
    "    Returns\n",
    "    -------\n",
    "    result : 1D array of pixel data\n",
    "        Each entry except the last consists of pixel data from a (28 × 28) image with gray-scale values.\n",
    "        Each last entry consists of the total black pixels in that set\n",
    "        These gray-scale values lie between 0.0 (black) and 1.0 (white)\n",
    "        One entry per example in training dataset\n",
    "        \n",
    "    '''\n",
    "    result = []\n",
    "    \n",
    "    # go through each input\n",
    "    for i in range(len(input_set)):\n",
    "        image = []\n",
    "        black = 0\n",
    "        white = 0\n",
    "        \n",
    "        # go through image and track total black pixels\n",
    "        for j in range(len(input_set[i])):\n",
    "            image.append(input_set[i][j])\n",
    "            if input_set[i][j] == 0:\n",
    "                black += 1\n",
    "            elif input_set[i][j] == 1:\n",
    "                white += 1\n",
    "         \n",
    "        # add all features to result\n",
    "        image.append(black)\n",
    "        image.append(white)\n",
    "        result.append(image)\n",
    "        \n",
    "    return np.array(result)\n",
    "\n",
    "# add black and white pixels as feature\n",
    "x_train_clothes_both = add_black_and_white_pixels_feature(x_train_clothes)\n",
    "x_test_clothes_both = add_black_and_white_pixels_feature(x_test_clothes)\n",
    "\n",
    "# fitting logistic model with black and white pixels feature\n",
    "log_reg_count_black_pixels(x_train_clothes_both, y_train_clothes, x_test_clothes_both)"
   ]
  },
  {
   "cell_type": "markdown",
   "id": "1c39fb69",
   "metadata": {},
   "source": [
    "## 2.9. Logistic Regression Model with Data Augmentation: Double Training Set by Flipping Images Horizontally"
   ]
  },
  {
   "cell_type": "code",
   "execution_count": 296,
   "id": "f7585caf",
   "metadata": {},
   "outputs": [
    {
     "name": "stdout",
     "output_type": "stream",
     "text": [
      "CPU times: user 1.86 s, sys: 109 ms, total: 1.97 s\n",
      "Wall time: 1.95 s\n"
     ]
    }
   ],
   "source": [
    "%%time\n",
    "\n",
    "# Error Rate: 0.10650000000000004\n",
    "# AUROC: 0.9556850000000001\n",
    "# Time: 1.94 s\n",
    "\n",
    "def flip_input_horizontally(input_set):\n",
    "    ''' Flips input set of images horizontally and doubles the set\n",
    "    \n",
    "    Args\n",
    "    ----\n",
    "    input_set : 1D array of pixel data\n",
    "        Each entry consists of pixel data from a (28 × 28) image with gray-scale values.\n",
    "        These gray-scale values lie between 0.0 (black) and 1.0 (white)\n",
    "        One entry per example in training dataset\n",
    "\n",
    "    Returns\n",
    "    -------\n",
    "    result : 1D array of pixel data\n",
    "        Each entry consists of pixel data from a (28 × 28) image with gray-scale values.\n",
    "        These gray-scale values lie between 0.0 (black) and 1.0 (white)\n",
    "        Double the size of the original training dataset\n",
    "        \n",
    "    '''\n",
    "    result = []\n",
    "    \n",
    "    # add each input\n",
    "    for i in range(len(input_set)):\n",
    "        result.append(input_set[i])\n",
    "        \n",
    "    # add each input flipped\n",
    "    for i in range(len(input_set)):\n",
    "        new_elem = np.flipud(input_set[i]) \n",
    "        result.append(new_elem)\n",
    "        \n",
    "    return np.array(result)\n",
    "\n",
    "\n",
    "def flip_output_horizontally(output_set):\n",
    "    ''' Flips output set of images horizontally by doubling the set\n",
    "    \n",
    "    Args\n",
    "    ----\n",
    "    output_set : 1D array of floats\n",
    "        Each entry represents the binary value (0 or 1)\n",
    "        One entry per example in training dataset\n",
    "\n",
    "    Returns\n",
    "    -------\n",
    "    result : 1D array of floats\n",
    "        Each entry represents the binary value (0 or 1)\n",
    "        Double the size of the original training dataset\n",
    "        \n",
    "    '''\n",
    "    result = []\n",
    "    \n",
    "    # add each output twice\n",
    "    for i in range(len(output_set)):\n",
    "        result.append(output_set[i])\n",
    "    for i in range(len(output_set)):\n",
    "        result.append(output_set[i])\n",
    "        \n",
    "    return np.array(result)\n",
    "\n",
    "# retrieve training sets doubled (flipped)\n",
    "x_train_clothes_h = flip_input_horizontally(x_train_clothes)\n",
    "y_train_clothes_h = flip_output_horizontally(y_train_clothes)\n",
    "\n",
    "\n",
    "def log_reg_data_augmentation_h(training_input, training_output, testing_input):\n",
    "    ''' Performs logistic regression on feature data representing dresses/trouser images with horizontal flips\n",
    "    \n",
    "    Args\n",
    "    ----\n",
    "    training_input : 1D array of pixel data\n",
    "        Each entry consists of pixel data from a (28 × 28) image with gray-scale values.\n",
    "        These gray-scale values lie between 0.0 (black) and 1.0 (white)\n",
    "        One entry per example in training dataset\n",
    "    training_output : 1D array of floats\n",
    "        Each entry represents the binary value (0 or 1)\n",
    "        One entry per example in training dataset\n",
    "    testing_input : 1D array of pixel data\n",
    "        Each entry consists of pixel data from a (28 × 28) image with gray-scale values.\n",
    "        These gray-scale values lie between 0.0 (black) and 1.0 (white)\n",
    "        One entry per example in testing dataset\n",
    "\n",
    "    Returns\n",
    "    -------\n",
    "    Nothing : \n",
    "        Creates txt file y_proba1.txt\n",
    "        txt file represents one probability value per line/example from testing set\n",
    "        \n",
    "    '''\n",
    "    # fitting logistic regression model\n",
    "    log_reg = LogisticRegression(solver='liblinear')\n",
    "    log_reg.fit(training_input, training_output)\n",
    "        \n",
    "    # calculating logistic loss\n",
    "    probability = log_reg.predict_proba(testing_input)[:, 1]\n",
    "    \n",
    "    # save to txt file\n",
    "    np.savetxt('yproba1_test.txt', probability)\n",
    "\n",
    "# fitting logistic model with data augmentation: flipping horizontally\n",
    "log_reg_data_augmentation_h(x_train_clothes_h, y_train_clothes_h, x_test_clothes)"
   ]
  },
  {
   "cell_type": "markdown",
   "id": "fbc18882",
   "metadata": {},
   "source": [
    "## 2.10. Logistic Regression Model with Data Augmentation and K-Fold Cross Validation: Double Training Set by Flipping Images Horizontally"
   ]
  },
  {
   "cell_type": "code",
   "execution_count": 297,
   "id": "1853eba9",
   "metadata": {},
   "outputs": [
    {
     "name": "stdout",
     "output_type": "stream",
     "text": [
      "CPU times: user 12.6 s, sys: 541 ms, total: 13.2 s\n",
      "Wall time: 13.1 s\n"
     ]
    }
   ],
   "source": [
    "%%time\n",
    "\n",
    "# Error Rate: 0.09799999999999998\n",
    "# AUROC: 0.9597180000000001\n",
    "# Time: 13 s\n",
    "\n",
    "# fitting logistic model with data augmentation and k-fold: flipping horizontally\n",
    "log_reg_k_fold(x_train_clothes_h, y_train_clothes_h, x_test_clothes)"
   ]
  },
  {
   "cell_type": "markdown",
   "id": "82ad70a6",
   "metadata": {},
   "source": [
    "## 2.11. Logistic Regression Model with Data Augmentation: Guassian Radial Basis Function"
   ]
  },
  {
   "cell_type": "code",
   "execution_count": 298,
   "id": "005f6b1f",
   "metadata": {},
   "outputs": [
    {
     "name": "stdout",
     "output_type": "stream",
     "text": [
      "CPU times: user 1min 14s, sys: 501 ms, total: 1min 15s\n",
      "Wall time: 1min 14s\n"
     ]
    }
   ],
   "source": [
    "%%time\n",
    "\n",
    "# Error Rate: 0.07399999999999995\n",
    "# AUROC: 0.9745249999999999\n",
    "# Time: 1 min 13 sec\n",
    "\n",
    "def gaussian_transformation(input_set):\n",
    "    ''' Transforms input set with gaussian filter\n",
    "    \n",
    "    Args\n",
    "    ----\n",
    "    input_set : 1D array of pixel data\n",
    "        Each entry consists of pixel data from a (28 × 28) image with gray-scale values.\n",
    "        These gray-scale values lie between 0.0 (black) and 1.0 (white)\n",
    "        One entry per example in training dataset\n",
    "\n",
    "    Returns\n",
    "    -------\n",
    "    result : 1D array of pixel data\n",
    "        Half of the entry consists of pixel data from a (28 × 28) image with gray-scale values.\n",
    "        These gray-scale values lie between 0.0 (black) and 1.0 (white)\n",
    "        The other half is the flattenned by guassian filter\n",
    "    '''\n",
    "    result = []\n",
    "    \n",
    "    # add each input\n",
    "    for i in range(len(input_set)):\n",
    "        result.append(input_set[i])\n",
    "        \n",
    "    # add each input filtered by guassian\n",
    "    for i in range(len(input_set)):\n",
    "        elem = reshape_dp(input_set[i])\n",
    "        gaussian_elem = gaussian_filter(elem, 784)\n",
    "        result.append(gaussian_elem.flatten())\n",
    "        \n",
    "    return np.array(result)\n",
    "\n",
    "\n",
    "def gaussian_result(output_set):\n",
    "    ''' Filters ouput through guassian by doubling the set\n",
    "    \n",
    "    Args\n",
    "    ----\n",
    "    output_set : 1D array of floats\n",
    "        Each entry represents the binary value (0 or 1)\n",
    "        One entry per example in training dataset\n",
    "\n",
    "    Returns\n",
    "    -------\n",
    "    result : 1D array of floats\n",
    "        Each entry represents the binary value (0 or 1)\n",
    "        Double the size of the original training dataset\n",
    "        \n",
    "    '''\n",
    "    result = []\n",
    "    \n",
    "    # add each output twice\n",
    "    for i in range(len(output_set)):\n",
    "        result.append(output_set[i])\n",
    "    for i in range(len(output_set)):\n",
    "        result.append(output_set[i])\n",
    "        \n",
    "    return np.array(result)\n",
    "\n",
    "# apply gaussian to training sets\n",
    "x_train_clothes_g = gaussian_transformation(x_train_clothes)\n",
    "y_train_clothes_g = gaussian_result(y_train_clothes)\n",
    "\n",
    "\n",
    "def log_reg_data_augmentation_g(training_input, training_output, testing_input):\n",
    "    ''' Performs logistic regression on feature data representing dresses/trouser images with horizontal flips\n",
    "    \n",
    "    Args\n",
    "    ----\n",
    "    training_input : 1D array of pixel data\n",
    "        Each entry consists of pixel data from a (28 × 28) image with gray-scale values.\n",
    "        These gray-scale values lie between 0.0 (black) and 1.0 (white)\n",
    "        One entry per example in training dataset\n",
    "    training_output : 1D array of floats\n",
    "        Each entry represents the binary value (0 or 1)\n",
    "        One entry per example in training dataset\n",
    "    testing_input : 1D array of pixel data\n",
    "        Each entry consists of pixel data from a (28 × 28) image with gray-scale values.\n",
    "        These gray-scale values lie between 0.0 (black) and 1.0 (white)\n",
    "        One entry per example in testing dataset\n",
    "\n",
    "    Returns\n",
    "    -------\n",
    "    Nothing : \n",
    "        Creates txt file y_proba1.txt\n",
    "        txt file represents one probability value per line/example from testing set\n",
    "        \n",
    "    '''\n",
    "    # fitting logistic regression model\n",
    "    log_reg = LogisticRegression(solver='liblinear')\n",
    "    log_reg.fit(training_input, training_output)\n",
    "        \n",
    "    # calculating logistic loss\n",
    "    probability = log_reg.predict_proba(testing_input)[:, 1]\n",
    "    \n",
    "    # save to txt file\n",
    "    np.savetxt('yproba1_test.txt', probability)\n",
    "\n",
    "# fitting logistic model with data augmentation: applying gaussian\n",
    "log_reg_data_augmentation_g(x_train_clothes_g, y_train_clothes_g, x_test_clothes)"
   ]
  },
  {
   "cell_type": "markdown",
   "id": "b13cd12a",
   "metadata": {},
   "source": [
    "## 2.12. Logistic Regression Model with Data Augmentation and K-Fold Cross Validation: Guassian Radial Basis Function"
   ]
  },
  {
   "cell_type": "code",
   "execution_count": 299,
   "id": "eaad8be1",
   "metadata": {},
   "outputs": [
    {
     "name": "stdout",
     "output_type": "stream",
     "text": [
      "CPU times: user 22 s, sys: 979 ms, total: 23 s\n",
      "Wall time: 22.2 s\n"
     ]
    }
   ],
   "source": [
    "%%time\n",
    "\n",
    "# Error Rate: 0.07350000000000001\n",
    "# AUROC: 0.9746370000000001\n",
    "# Time: 21 sec\n",
    "\n",
    "# fitting logistic model with data augmentation and k-fold: applying gaussian\n",
    "log_reg_k_fold(x_train_clothes_g, y_train_clothes_g, x_test_clothes)"
   ]
  },
  {
   "cell_type": "markdown",
   "id": "1377af82",
   "metadata": {},
   "source": [
    "## 2.13. Logistic Regression Model with Replaced White Pixels"
   ]
  },
  {
   "cell_type": "code",
   "execution_count": 301,
   "id": "19dc0d4c",
   "metadata": {},
   "outputs": [
    {
     "name": "stdout",
     "output_type": "stream",
     "text": [
      "CPU times: user 6.9 s, sys: 171 ms, total: 7.07 s\n",
      "Wall time: 6.98 s\n"
     ]
    },
    {
     "data": {
      "image/png": "[encoded data removed]",
      "text/plain": [
       "<Figure size 576x396 with 1 Axes>"
      ]
     },
     "metadata": {},
     "output_type": "display_data"
    },
    {
     "data": {
      "image/png": "[encoded data removed]",
      "text/plain": [
       "<Figure size 576x396 with 1 Axes>"
      ]
     },
     "metadata": {},
     "output_type": "display_data"
    }
   ],
   "source": [
    "%%time\n",
    "\n",
    "# Error Rate: 0.13949999999999996\n",
    "# AUROC: 0.932117\n",
    "# Time: 7.36 s\n",
    "\n",
    "def replace_white_with_black(input_set):\n",
    "    result = []\n",
    "    for i in range(len(input_set)):\n",
    "        image = []\n",
    "        for j in range(len(input_set[i])):\n",
    "            if input_set[i][j] == 1:\n",
    "                image.append(0)\n",
    "            else:\n",
    "                image.append(input_set[i][j])\n",
    "        result.append(image)\n",
    "    return np.array(result)\n",
    "\n",
    "before = reshape_dp(x_train_clothes[1])\n",
    "\n",
    "figure1 = plt.figure()\n",
    "images = []\n",
    "images.append(figure1.add_subplot(1,1,1))\n",
    "images[0].imshow(before, cmap='Greys', vmin=0.0, vmax=1.0)\n",
    "\n",
    "x_train_clothes_wb = replace_white_with_black(x_train_clothes)\n",
    "\n",
    "after = reshape_dp(x_train_clothes_wb[1])\n",
    "\n",
    "figure1 = plt.figure()\n",
    "images = []\n",
    "images.append(figure1.add_subplot(1,1,1))\n",
    "images[0].imshow(after, cmap='Greys', vmin=0.0, vmax=1.0)\n",
    "\n",
    "\n",
    "def log_reg_replace_white_with_black(training_input, training_output, testing_input):\n",
    "    ''' Performs logistic regression on feature data representing dresses/trouser images with horizontal flips\n",
    "    \n",
    "    Args\n",
    "    ----\n",
    "    training_input : 1D array of pixel data\n",
    "        Each entry consists of pixel data from a (28 × 28) image with gray-scale values.\n",
    "        These gray-scale values lie between 0.0 (black) and 1.0 (white)\n",
    "        One entry per example in training dataset\n",
    "    training_output : 1D array of floats\n",
    "        Each entry represents the binary value (0 or 1)\n",
    "        One entry per example in training dataset\n",
    "    testing_input : 1D array of pixel data\n",
    "        Each entry consists of pixel data from a (28 × 28) image with gray-scale values.\n",
    "        These gray-scale values lie between 0.0 (black) and 1.0 (white)\n",
    "        One entry per example in testing dataset\n",
    "\n",
    "    Returns\n",
    "    -------\n",
    "    Nothing : \n",
    "        Creates txt file y_proba1.txt\n",
    "        txt file represents one probability value per line/example from testing set\n",
    "        \n",
    "    '''\n",
    "    # fitting logistic regression model\n",
    "    log_reg = LogisticRegression(solver='liblinear')\n",
    "    log_reg.fit(training_input, training_output)\n",
    "        \n",
    "    # calculating logistic loss\n",
    "    probability = log_reg.predict_proba(testing_input)[:, 1]\n",
    "    \n",
    "    # save to txt file\n",
    "    np.savetxt('yproba1_test.txt', probability)\n",
    "    \n",
    "# fitting logistic model with replacing white pixels\n",
    "log_reg_replace_white_with_black(x_train_clothes_wb, y_train_clothes, x_test_clothes)"
   ]
  },
  {
   "cell_type": "markdown",
   "id": "1b4218ba",
   "metadata": {},
   "source": [
    "## 2.14. Logistic Regression Model with Replaced White Pixels and K-Fold Cross Validation"
   ]
  },
  {
   "cell_type": "code",
   "execution_count": 302,
   "id": "af4eb028",
   "metadata": {},
   "outputs": [
    {
     "name": "stdout",
     "output_type": "stream",
     "text": [
      "CPU times: user 5.24 s, sys: 198 ms, total: 5.44 s\n",
      "Wall time: 5.4 s\n"
     ]
    }
   ],
   "source": [
    "%%time\n",
    "\n",
    "# Error Rate: 0.13349999999999995\n",
    "# AUROC: 0.9433950000000001\n",
    "# Time: 6.16 s\n",
    "\n",
    "# fitting logistic model with replacing white pixels and k-fold\n",
    "log_reg_k_fold(x_train_clothes_wb, y_train_clothes, x_test_clothes)"
   ]
  }
 ],
 "metadata": {
  "kernelspec": {
   "display_name": "Python 3",
   "language": "python",
   "name": "python3"
  },
  "language_info": {
   "codemirror_mode": {
    "name": "ipython",
    "version": 3
   },
   "file_extension": ".py",
   "mimetype": "text/x-python",
   "name": "python",
   "nbconvert_exporter": "python",
   "pygments_lexer": "ipython3",
   "version": "3.8.8"
  }
 },
 "nbformat": 4,
 "nbformat_minor": 5
}
