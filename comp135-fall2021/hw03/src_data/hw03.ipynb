{
 "cells": [
  {
   "cell_type": "markdown",
   "metadata": {},
   "source": [
    "## HW03 Code\n",
    "\n",
    "\n",
    "You will complete the following notebook, as described in the PDF for Homework 03 (included in the download with the starter code).  You will submit:\n",
    "1. This notebook file, along with your COLLABORATORS.txt file, to the Gradescope link for code.\n",
    "2. A PDF of this notebook and all of its output, once it is completed, to the Gradescope link for the PDF.\n",
    "\n",
    "\n",
    "Please report any questions to the [class Piazza page](piazza.com/tufts/summer2021/cs135).\n",
    "\n",
    "### Import required libraries."
   ]
  },
  {
   "cell_type": "code",
   "execution_count": 20,
   "metadata": {},
   "outputs": [],
   "source": [
    "import os\n",
    "import numpy as np\n",
    "import pandas as pd\n",
    "\n",
    "import warnings\n",
    "\n",
    "import sklearn.linear_model\n",
    "import sklearn.metrics\n",
    "import sklearn.calibration\n",
    "\n",
    "import sklearn.preprocessing # added for part 4a\n",
    "\n",
    "from matplotlib import pyplot as plt\n",
    "import seaborn as sns\n",
    "%matplotlib inline\n",
    "plt.style.use('seaborn') # pretty matplotlib plots"
   ]
  },
  {
   "cell_type": "markdown",
   "metadata": {},
   "source": [
    "### Function for later use\n",
    "This function will compute and return a confusion matrix on data, given probabilistic predictions, and a threshold to use when converting probabilities to \"firm\" predictions.\n",
    "\n",
    "***Don't change this function.***"
   ]
  },
  {
   "cell_type": "code",
   "execution_count": 3,
   "metadata": {},
   "outputs": [],
   "source": [
    "def calc_confusion_matrix_for_threshold(ytrue_N, yproba1_N, thresh=0.5):\n",
    "    ''' Compute the confusion matrix for a given probabilistic classifier and threshold\n",
    "    \n",
    "    Args\n",
    "    ----\n",
    "    ytrue_N : 1D array of floats\n",
    "        Each entry represents the binary value (0 or 1) of 'true' label of one example\n",
    "        One entry per example in current dataset\n",
    "    yproba1_N : 1D array of floats\n",
    "        Each entry represents a probability (between 0 and 1) that correct label is positive (1)\n",
    "        One entry per example in current dataset\n",
    "        Needs to be same size as ytrue_N\n",
    "    thresh : float\n",
    "        Scalar threshold for converting probabilities into hard decisions\n",
    "        Calls an example \"positive\" if yproba1 >= thresh\n",
    "        Default value reflects a majority-classification approach (class is the one that gets\n",
    "        highest probability)\n",
    "\n",
    "    Returns\n",
    "    -------\n",
    "    cm_df : Pandas DataFrame\n",
    "        Can be printed like print(cm_df) to easily display results\n",
    "    '''\n",
    "    cm = sklearn.metrics.confusion_matrix(ytrue_N, yproba1_N >= thresh)\n",
    "    cm_df = pd.DataFrame(data=cm, columns=[0, 1], index=[0, 1])\n",
    "    cm_df.columns.name = 'Predicted'\n",
    "    cm_df.index.name = 'True'\n",
    "    return cm_df"
   ]
  },
  {
   "cell_type": "markdown",
   "metadata": {},
   "source": [
    "## Cancer-Risk Screening\n",
    "\n",
    "### 1: Compute true/false positives/negatives.\n",
    "\n",
    "Complete the following code."
   ]
  },
  {
   "cell_type": "code",
   "execution_count": 4,
   "metadata": {},
   "outputs": [],
   "source": [
    "def calc_TP_TN_FP_FN(ytrue_N, yhat_N):\n",
    "    '''\n",
    "    \n",
    "    Args\n",
    "    ----\n",
    "    ytrue_N : 1D array of floats\n",
    "        Each entry represents the binary value (0 or 1) of 'true' label of one example\n",
    "        One entry per example in current dataset\n",
    "    yhat_N : 1D array of floats\n",
    "        Each entry represents a predicted binary value (either 0 or 1).\n",
    "        One entry per example in current dataset.\n",
    "        Needs to be same size as ytrue_N.\n",
    "\n",
    "    Returns\n",
    "    -------\n",
    "    TP : int\n",
    "        Number of true positives\n",
    "    TN : int\n",
    "        Number of true negatives\n",
    "    FP : int\n",
    "        Number of false positives\n",
    "    FN : int\n",
    "        Number of false negatives\n",
    "    '''\n",
    "    \n",
    "    if (len(ytrue_N) != len(yhat_N)):\n",
    "        print(\"Vectors must be the same size\")\n",
    "        return 0.0, 0.0, 0.0, 0.0\n",
    "    \n",
    "    # initializing return variables\n",
    "    TP = 0.0\n",
    "    TN = 0.0\n",
    "    FP = 0.0\n",
    "    FN = 0.0   \n",
    "    \n",
    "    # iterating through lists to update return variables\n",
    "    for i in range(len(ytrue_N)):\n",
    "        if ytrue_N[i] == 1 and yhat_N[i] == 1:\n",
    "            TP += 1\n",
    "        elif ytrue_N[i] == 1 and yhat_N[i] == 0:\n",
    "            FN += 1 \n",
    "        elif ytrue_N[i] == 0 and yhat_N[i] == 1:\n",
    "            FP += 1 \n",
    "        else:\n",
    "            TN += 1\n",
    "    \n",
    "    return TP, TN, FP, FN"
   ]
  },
  {
   "cell_type": "markdown",
   "metadata": {},
   "source": [
    "#### Testing code\n",
    "The following four calls to the function above test your results.  ***Don't modify this.***"
   ]
  },
  {
   "cell_type": "code",
   "execution_count": 5,
   "metadata": {},
   "outputs": [
    {
     "data": {
      "text/plain": [
       "(0.0, 0.0, 10.0, 0.0)"
      ]
     },
     "execution_count": 5,
     "metadata": {},
     "output_type": "execute_result"
    }
   ],
   "source": [
    "all0 = np.zeros(10)\n",
    "all1 = np.ones(10)\n",
    "calc_TP_TN_FP_FN(all0, all1)"
   ]
  },
  {
   "cell_type": "code",
   "execution_count": 6,
   "metadata": {},
   "outputs": [
    {
     "data": {
      "text/plain": [
       "(0.0, 0.0, 0.0, 10.0)"
      ]
     },
     "execution_count": 6,
     "metadata": {},
     "output_type": "execute_result"
    }
   ],
   "source": [
    "calc_TP_TN_FP_FN(all1, all0)"
   ]
  },
  {
   "cell_type": "code",
   "execution_count": 7,
   "metadata": {},
   "outputs": [
    {
     "data": {
      "text/plain": [
       "(10.0, 0.0, 0.0, 0.0)"
      ]
     },
     "execution_count": 7,
     "metadata": {},
     "output_type": "execute_result"
    }
   ],
   "source": [
    "calc_TP_TN_FP_FN(all1, all1)"
   ]
  },
  {
   "cell_type": "code",
   "execution_count": 8,
   "metadata": {},
   "outputs": [
    {
     "data": {
      "text/plain": [
       "(0.0, 10.0, 0.0, 0.0)"
      ]
     },
     "execution_count": 8,
     "metadata": {},
     "output_type": "execute_result"
    }
   ],
   "source": [
    "calc_TP_TN_FP_FN(all0, all0)"
   ]
  },
  {
   "cell_type": "markdown",
   "metadata": {},
   "source": [
    "### Load the dataset.\n",
    "\n",
    "The following should ***not*** be modified.  After it runs, the various arrays it creates will contain the 2- or 3-feature input datasets."
   ]
  },
  {
   "cell_type": "code",
   "execution_count": 9,
   "metadata": {},
   "outputs": [],
   "source": [
    "# Load the x-data and y-class arrays\n",
    "x_train = np.loadtxt('./data_cancer/x_train.csv', delimiter=',', skiprows=1)\n",
    "x_test = np.loadtxt('./data_cancer/x_test.csv', delimiter=',', skiprows=1)\n",
    "\n",
    "y_train = np.loadtxt('./data_cancer/y_train.csv', delimiter=',', skiprows=1)\n",
    "y_test = np.loadtxt('./data_cancer/y_test.csv', delimiter=',', skiprows=1)"
   ]
  },
  {
   "cell_type": "markdown",
   "metadata": {},
   "source": [
    "### 2: Compute the fraction of patients with cancer.\n",
    "\n",
    "Complete the following code.  Your solution needs to ***compute*** these values from the training and testing sets (i.e., don't simply hand-count and print the values)."
   ]
  },
  {
   "cell_type": "code",
   "execution_count": 10,
   "metadata": {},
   "outputs": [
    {
     "name": "stdout",
     "output_type": "stream",
     "text": [
      "Fraction of data that has_cancer on TRAIN: 0.140\n",
      "fraction of data that has_cancer on TEST : 0.139\n"
     ]
    }
   ],
   "source": [
    "def calc_positives(arr):\n",
    "    '''\n",
    "    \n",
    "    Args\n",
    "    ----\n",
    "    arr : 1D array of floats\n",
    "        Each entry represents the binary value (0 or 1)\n",
    "        One entry per example in current dataset\n",
    "\n",
    "    Returns\n",
    "    -------\n",
    "    fraction_of_positives : int\n",
    "        Fraction of positives\n",
    "    '''\n",
    "\n",
    "    # calculating positives in training and testing data\n",
    "    positives = 0\n",
    "    for i in range(len(arr)):\n",
    "        if(arr[i] == 1):\n",
    "            positives += 1\n",
    "    \n",
    "    fraction_of_positives = positives / len(arr)\n",
    "    return fraction_of_positives\n",
    "\n",
    "print(\"Fraction of data that has_cancer on TRAIN: %.3f\" % calc_positives(y_train))\n",
    "print(\"fraction of data that has_cancer on TEST : %.3f\" % calc_positives(y_test))"
   ]
  },
  {
   "cell_type": "markdown",
   "metadata": {},
   "source": [
    "### 3: The predict-0-always baseline\n",
    "\n",
    "#### (a) Compute the accuracy of the always-0 classifier.\n",
    "\n",
    "Complete the code to compute and print the accuracy of the always-0 classifier on validation and test outputs."
   ]
  },
  {
   "cell_type": "code",
   "execution_count": 11,
   "metadata": {},
   "outputs": [
    {
     "name": "stdout",
     "output_type": "stream",
     "text": [
      "acc on TRAIN: 0.860\n",
      "acc on TEST : 0.861\n"
     ]
    }
   ],
   "source": [
    "def predict_0_classifier(arr):\n",
    "    '''\n",
    "    \n",
    "    Args\n",
    "    ----\n",
    "    arr : 1D array of floats\n",
    "        Each entry represents the binary value (0 or 1)\n",
    "        One entry per example in current dataset\n",
    "\n",
    "    Returns\n",
    "    -------\n",
    "    fraction_of_negatives : int\n",
    "        Fraction of negatives\n",
    "    '''\n",
    "\n",
    "    # calculating negatives in training and testing data\n",
    "    # using calc_positives to calculate the fraction of negatives\n",
    "    fraction_of_negatives = 1 - calc_positives(arr)\n",
    "    return fraction_of_negatives\n",
    "\n",
    "print(\"acc on TRAIN: %.3f\" % predict_0_classifier(y_train)) \n",
    "print(\"acc on TEST : %.3f\" % predict_0_classifier(y_test))"
   ]
  },
  {
   "cell_type": "markdown",
   "metadata": {},
   "source": [
    "#### (b) Print a confusion matrix for the always-0 classifier.\n",
    "\n",
    "Add code below to generate a confusion matrix for the always-0 classifier on the test set."
   ]
  },
  {
   "cell_type": "code",
   "execution_count": 12,
   "metadata": {},
   "outputs": [
    {
     "name": "stdout",
     "output_type": "stream",
     "text": [
      "Confusion matrix for always-0 classifier:\n",
      "Predicted    0  1\n",
      "True             \n",
      "0          155  0\n",
      "1           25  0\n"
     ]
    }
   ],
   "source": [
    "print(\"Confusion matrix for always-0 classifier:\")\n",
    "print(calc_confusion_matrix_for_threshold(y_test, np.zeros(len(y_test)), predict_0_classifier(y_test)))"
   ]
  },
  {
   "cell_type": "markdown",
   "metadata": {},
   "source": [
    "#### (c) Reflect on the accuracy of the always-0 classifier.\n",
    "\n",
    "**Answer**: The always-0 classifier has a reasonable accuracy for the simple baseline classifier. 155 of the 180 labels have been accurately classified with a predicted output of 0 (true negatives), while the other 25 weren't (false negatives). The reason that we wouldn't just use it for this task is that we care more about the true positives. In our case, the performance should be based on how well we can determine that patients have cancer. Thus, the classifier's performance is not based on predicting true negatives, it is based on predicting true positives. This classifier could not predict any occurrences of cancer based on any combination of features, so therefore, it wouldn't be that useful."
   ]
  },
  {
   "cell_type": "markdown",
   "metadata": {},
   "source": [
    "#### (d) Analyze the various costs of using the always-0 classifier.\n",
    "\n",
    "\n",
    "**Answer**: There are a few errors that the always-0 classifier can make. The worst error is that it is possible for the model to predict a false negative, which means that a patient with cancer would not be properly diagnosed. The cost of this mistake would lead to the patient's cancer growing and probably death. As a result, this model has a cost of death along with the patient's physical/emotional trauma that comes with it. Otherwise, the always-0 classifier does make a correct prediction since patients who do not have cancer are correctly predicted. However, a model that predicts the same result in every scenario is a bad model. As a result of these possible costs, I would recommend not using this model because it makes the mistake of not predicting people who have cancer properly."
   ]
  },
  {
   "cell_type": "markdown",
   "metadata": {},
   "source": [
    "### 4: Basic Perceptron Models\n",
    "\n",
    "#### (a) Create a basic `Perceptron` classifier\n",
    "\n",
    "Fit a perceptron to the training data.  Print out accuracy on this data, as well as on testing data.  Print out a confusion matrix on the testing data."
   ]
  },
  {
   "cell_type": "code",
   "execution_count": 13,
   "metadata": {},
   "outputs": [
    {
     "ename": "NameError",
     "evalue": "name 'scaler' is not defined",
     "output_type": "error",
     "traceback": [
      "\u001b[0;31m---------------------------------------------------------------------------\u001b[0m",
      "\u001b[0;31mNameError\u001b[0m                                 Traceback (most recent call last)",
      "\u001b[0;32m<ipython-input-13-0900d646c977>\u001b[0m in \u001b[0;36m<module>\u001b[0;34m\u001b[0m\n\u001b[1;32m      5\u001b[0m \u001b[0mscalar\u001b[0m \u001b[0;34m=\u001b[0m \u001b[0msklearn\u001b[0m\u001b[0;34m.\u001b[0m\u001b[0mpreprocessing\u001b[0m\u001b[0;34m.\u001b[0m\u001b[0mMinMaxScaler\u001b[0m\u001b[0;34m(\u001b[0m\u001b[0;34m)\u001b[0m\u001b[0;34m\u001b[0m\u001b[0;34m\u001b[0m\u001b[0m\n\u001b[1;32m      6\u001b[0m \u001b[0mscalar\u001b[0m\u001b[0;34m.\u001b[0m\u001b[0mfit\u001b[0m\u001b[0;34m(\u001b[0m\u001b[0mx\u001b[0m\u001b[0;34m)\u001b[0m\u001b[0;34m\u001b[0m\u001b[0;34m\u001b[0m\u001b[0m\n\u001b[0;32m----> 7\u001b[0;31m \u001b[0mx_train_transf\u001b[0m \u001b[0;34m=\u001b[0m \u001b[0mscaler\u001b[0m\u001b[0;34m.\u001b[0m\u001b[0mtransform\u001b[0m\u001b[0;34m(\u001b[0m\u001b[0mx_train\u001b[0m\u001b[0;34m)\u001b[0m\u001b[0;34m\u001b[0m\u001b[0;34m\u001b[0m\u001b[0m\n\u001b[0m\u001b[1;32m      8\u001b[0m \u001b[0mx_test_transf\u001b[0m \u001b[0;34m=\u001b[0m \u001b[0mscaler\u001b[0m\u001b[0;34m.\u001b[0m\u001b[0mtransform\u001b[0m\u001b[0;34m(\u001b[0m\u001b[0mx_test\u001b[0m\u001b[0;34m)\u001b[0m\u001b[0;34m\u001b[0m\u001b[0;34m\u001b[0m\u001b[0m\n\u001b[1;32m      9\u001b[0m \u001b[0;34m\u001b[0m\u001b[0m\n",
      "\u001b[0;31mNameError\u001b[0m: name 'scaler' is not defined"
     ]
    }
   ],
   "source": [
    "# combine training and testing data into array\n",
    "x = np.vstack([x_train, x_test])\n",
    "\n",
    "# transform training and testing with MinMax scalar to minimize difference in magnitudes (scale is between 0 and 1)\n",
    "scalar = sklearn.preprocessing.MinMaxScaler()\n",
    "scalar.fit(x)\n",
    "x_train_transf = scaler.transform(x_train)\n",
    "x_test_transf = scaler.transform(x_test)\n",
    "    \n",
    "# create perceptron, fit data, return score\n",
    "basic_perc = sklearn.linear_model.Perceptron(tol=1e-3, random_state=0)\n",
    "basic_perc.fit(x_train_transf, y_train)\n",
    "\n",
    "# print accuracy on data\n",
    "print(\"acc on TRAIN: %.3f\" % basic_perc.score(x_train_transf, y_train)) #TODO: modify these values\n",
    "print(\"acc on TEST : %.3f\" % basic_perc.score(x_test_transf, y_test))\n",
    "\n",
    "# print confusion matrix\n",
    "print()\n",
    "print(calc_confusion_matrix_for_threshold(y_test, basic_perc.predict(x_test_transf)))"
   ]
  },
  {
   "cell_type": "markdown",
   "metadata": {},
   "source": [
    "#### (b) Compare the `Perceptron` to the always-0 classifier.\n",
    "\n",
    "**Answer**: The Perceptron model has a much lower accuracy on the training and testing data than the always-0 classifier. However, the always-0 classifier results in a lot of false negatives (25), which is really bad because it could lead to the death of those patients. The Perceptron Model has 0 false negatives, and instead 91 false positives, which is not completely accurate, but it is better to think you have cancer when you don't thatn to think you don't have cancer when you do. Therefore, the cost of the always 0 classifier is much worse than the Perceptron, even if the Perceptron is less accurate.\n"
   ]
  },
  {
   "cell_type": "markdown",
   "metadata": {},
   "source": [
    "#### (c) Generate a series of regularized perceptron models\n",
    "Each model will use a different `alpha` value, multiplying that by the L2 penalty.  You will record and plot the accuracy of each model on both training and test data."
   ]
  },
  {
   "cell_type": "code",
   "execution_count": 277,
   "metadata": {},
   "outputs": [],
   "source": [
    "# initialize accuracy lists\n",
    "train_accuracy_list = list()\n",
    "test_accuracy_list = list()\n",
    "\n",
    "# generate values of alpha\n",
    "alphas = np.logspace(-5, 5, base=10, num=100)\n",
    "    \n",
    "for alpha in range(len(alphas)):\n",
    "        \n",
    "    # fit preceptron model with alpha\n",
    "    regular_perc = sklearn.linear_model.Perceptron(penalty='l2', alpha= alphas[alpha], tol=1e-3, random_state=0)\n",
    "    regular_perc.fit(x_train_transf, y_train)\n",
    "        \n",
    "    # append to accuracy lists\n",
    "    train_accuracy_list.append(regular_perc.score(x_train_transf, y_train))\n",
    "    test_accuracy_list.append(regular_perc.score(x_test_transf, y_test))"
   ]
  },
  {
   "cell_type": "markdown",
   "metadata": {},
   "source": [
    "##### Plot accuracy on train/test data across the different alpha values."
   ]
  },
  {
   "cell_type": "code",
   "execution_count": 278,
   "metadata": {},
   "outputs": [
    {
     "data": {
      "image/png": "[encoded data removed]",
      "text/plain": [
       "<Figure size 576x396 with 1 Axes>"
      ]
     },
     "metadata": {},
     "output_type": "display_data"
    }
   ],
   "source": [
    "# plotting accuracy on train/test\n",
    "plt.xscale('log')\n",
    "\n",
    "plt.plot(alphas, train_accuracy, color=\"red\", label=\"Train Accuracy\")\n",
    "plt.plot(alphas, test_accuracy, color=\"blue\", label=\"Testing Accuracy\")\n",
    "\n",
    "plt.title(\"Accruacy on Train/Test Data Across Different Alpha Values\")\n",
    "plt.xlabel('log_10(alpha)');\n",
    "plt.ylabel('Accuracy');\n",
    "\n",
    "plt.legend()\n",
    "plt.show()\n",
    "\n",
    "# TODO add legend, titles, etc.\n",
    "# plt.legend(...);"
   ]
  },
  {
   "cell_type": "markdown",
   "metadata": {},
   "source": [
    "#### (d) Discuss what the plot is showing you.\n",
    "\n",
    "**Answer**: The plot is showing me that for the most part, the training and testing accuracy are around 0.85 and 0.86 respectively. However, there are few alpha values that cause the accuracy for both to dip. Around alpha value 10^-3, the testing accuracy decreases below 0.6 and the training accuracy decreases below 0.5. Around 10^-2, both accuracies fall all the way to 0.15. Compared to prior assignments, this plot starts off with small fluctuations, followed by big fluctuations, but then stays relatively flat."
   ]
  },
  {
   "cell_type": "markdown",
   "metadata": {},
   "source": [
    "### 5: Decision functions and probabilistic predictions\n",
    "\n",
    "#### (a) Create two new sets of predictions\n",
    "\n",
    "Fit `Perceptron` and `CalibratedClassifierCV` models to the data.  Use their predictions to generate ROC curves. "
   ]
  },
  {
   "cell_type": "code",
   "execution_count": 279,
   "metadata": {},
   "outputs": [],
   "source": [
    "# build a CalibratedClassifierCV, using a Perceptron as its base_estimator, \n",
    "#       and generate its probabilistic predictions over the test data.\n",
    "perc1 = sklearn.linear_model.Perceptron(tol=1e-3, random_state=0)\n",
    "calibrate = sklearn.calibration.CalibratedClassifierCV(base_estimator = perc1, method = \"isotonic\")\n",
    "calibrate.fit(x_train_transf, y_train)\n",
    "temp_prob_scores = calibrate.predict_proba(x_test_transf)\n",
    "prob_scores = temp_prob_scores[:, 1]\n",
    "\n",
    "# fit a Perceptron and generate its confidence scores with decision_function() over the test data.\n",
    "perc2 = sklearn.linear_model.Perceptron(tol=1e-3, random_state=0)\n",
    "perc2.fit(x_train_transf, y_train)\n",
    "perc_scores = perc2.decision_function(x_test_transf)"
   ]
  },
  {
   "cell_type": "code",
   "execution_count": 1,
   "metadata": {},
   "outputs": [
    {
     "ename": "NameError",
     "evalue": "name 'sklearn' is not defined",
     "output_type": "error",
     "traceback": [
      "\u001b[0;31m---------------------------------------------------------------------------\u001b[0m",
      "\u001b[0;31mNameError\u001b[0m                                 Traceback (most recent call last)",
      "\u001b[0;32m<ipython-input-1-d4dcb0d54eb2>\u001b[0m in \u001b[0;36m<module>\u001b[0;34m\u001b[0m\n\u001b[1;32m      1\u001b[0m \u001b[0;31m# Graph models (ROC) to compare\u001b[0m\u001b[0;34m\u001b[0m\u001b[0;34m\u001b[0m\u001b[0;34m\u001b[0m\u001b[0m\n\u001b[1;32m      2\u001b[0m \u001b[0;31m# Using sklearn.metrics.roc_curve(y_test, confidence_scores1)\u001b[0m\u001b[0;34m\u001b[0m\u001b[0;34m\u001b[0m\u001b[0;34m\u001b[0m\u001b[0m\n\u001b[0;32m----> 3\u001b[0;31m \u001b[0mfpr1\u001b[0m\u001b[0;34m,\u001b[0m \u001b[0mtpr1\u001b[0m\u001b[0;34m,\u001b[0m \u001b[0mthresholds1\u001b[0m \u001b[0;34m=\u001b[0m \u001b[0msklearn\u001b[0m\u001b[0;34m.\u001b[0m\u001b[0mmetrics\u001b[0m\u001b[0;34m.\u001b[0m\u001b[0mroc_curve\u001b[0m\u001b[0;34m(\u001b[0m\u001b[0my_test\u001b[0m\u001b[0;34m,\u001b[0m \u001b[0mprob_scores\u001b[0m\u001b[0;34m)\u001b[0m\u001b[0;34m\u001b[0m\u001b[0;34m\u001b[0m\u001b[0m\n\u001b[0m\u001b[1;32m      4\u001b[0m \u001b[0mfpr2\u001b[0m\u001b[0;34m,\u001b[0m \u001b[0mtpr2\u001b[0m\u001b[0;34m,\u001b[0m \u001b[0mthresholds2\u001b[0m \u001b[0;34m=\u001b[0m \u001b[0msklearn\u001b[0m\u001b[0;34m.\u001b[0m\u001b[0mmetrics\u001b[0m\u001b[0;34m.\u001b[0m\u001b[0mroc_curve\u001b[0m\u001b[0;34m(\u001b[0m\u001b[0my_test\u001b[0m\u001b[0;34m,\u001b[0m \u001b[0mperc_scores\u001b[0m\u001b[0;34m)\u001b[0m\u001b[0;34m\u001b[0m\u001b[0;34m\u001b[0m\u001b[0m\n\u001b[1;32m      5\u001b[0m \u001b[0mprint\u001b[0m\u001b[0;34m(\u001b[0m\u001b[0mfpr1\u001b[0m\u001b[0;34m)\u001b[0m\u001b[0;34m\u001b[0m\u001b[0;34m\u001b[0m\u001b[0m\n",
      "\u001b[0;31mNameError\u001b[0m: name 'sklearn' is not defined"
     ]
    }
   ],
   "source": [
    "# Graph models (ROC) to compare\n",
    "# Using sklearn.metrics.roc_curve(y_test, confidence_scores1)\n",
    "fpr1, tpr1, thresholds1 = sklearn.metrics.roc_curve(y_test, prob_scores)\n",
    "fpr2, tpr2, thresholds2 = sklearn.metrics.roc_curve(y_test, perc_scores)\n",
    "print(fpr1)\n",
    "print(tpr1)\n",
    "print(thresholds1)\n",
    "\n",
    "plt.title(\"ROC Curves on Perceptron Model and CCCV Model\")\n",
    "plt.plot(fpr1, tpr1, color=\"blue\", label=\"CCCV/Probabilistic Model\")\n",
    "plt.plot(fpr2, tpr2, color=\"red\", label=\"Perceptron Model\")\n",
    "\n",
    "plt.ylim([0, 1]);\n",
    "plt.xlabel(\"False Postive rate (FPR)\");\n",
    "plt.ylabel(\"True Postive rate (TPR)\");\n",
    "\n",
    "plt.legend()\n",
    "plt.show()"
   ]
  },
  {
   "cell_type": "code",
   "execution_count": 281,
   "metadata": {},
   "outputs": [
    {
     "name": "stdout",
     "output_type": "stream",
     "text": [
      "AUC on TEST for Perceptron Model: 0.884\n",
      "AUC on TEST for Probabilistic Model: 0.886\n"
     ]
    }
   ],
   "source": [
    "# finding auc for both models\n",
    "auc1 = sklearn.metrics.roc_auc_score(y_test, prob_scores)\n",
    "auc2 = sklearn.metrics.roc_auc_score(y_test, perc_scores)\n",
    "\n",
    "print(\"AUC on TEST for Perceptron Model: %.3f\" % auc2) #TODO: modify these values\n",
    "print(\"AUC on TEST for Probabilistic Model: %.3f\" % auc1)"
   ]
  },
  {
   "cell_type": "markdown",
   "metadata": {},
   "source": [
    "#### (b) Discuss the results above\n",
    "\n",
    "**Answer**: The ROC Curves in the plot and the AUC values tell us a lot. \n",
    "\n",
    "ROC curves are a way to look at classifier performance and look at the ratio of true positive rates and false positive rates. The Perceptron model ROC curve shows that for low false positive rates, the true positive rate is fairly high (other than close to 0). As false positive rates get higher, the true positive rate approaches 1, and it finally does this at a false positive rate at 0.5. Similarly, the Probabilistic Model ROC curve shows that for low false positive rates, the true positive rate is fairly high, maybe a little lower than the Perceptron Model. However, the Probabilistic Model reaches a true positive rate of 1.0 at lower false positive rate (0.4) than the Perceptron Model.\n",
    "\n",
    "Sometimes, ROC can ve nuanced and the curve does not tell us how the algorithm performed. The areas under the curves (AUC) is a good metric for performance. A larger area means the curve gets higher true positive success rate earlier. Thus, we see that the AUC for testing of the perceptron is very high (0.884) as well as the AUC for testing of the Probabilistic Model (0.886). Thus, this means that the Probabilistic Model gets a higher true positive success rate earlier than the Perceptron Model, but it's relatively close."
   ]
  },
  {
   "cell_type": "markdown",
   "metadata": {},
   "source": [
    "#### (c) Compute model metrics for different probabilistic thresholds\n",
    "\n",
    "Complete the function that takes in a set of correct outputs, a matching set of probabilities generated by a classifier, and a threshold at which to set the positive decision probability, and returns a set of metrics if we use that threshold."
   ]
  },
  {
   "cell_type": "code",
   "execution_count": 282,
   "metadata": {},
   "outputs": [],
   "source": [
    "def calc_perf_metrics_for_threshold(ytrue_N, yproba1_N, thresh=0.5):\n",
    "    ''' Compute performance metrics for a given probabilistic classifier and threshold\n",
    "    Args\n",
    "    ----\n",
    "    ytrue_N : 1D array of floats\n",
    "        Each entry represents the binary value (0 or 1) of 'true' label of one example\n",
    "        One entry per example in current dataset\n",
    "    yproba1_N : 1D array of floats\n",
    "        Each entry represents a probability (between 0 and 1) that correct label is positive (1)\n",
    "        One entry per example in current dataset\n",
    "        Needs to be same size as ytrue_N\n",
    "    thresh : float\n",
    "        Scalar threshold for converting probabilities into hard decisions\n",
    "        Calls an example \"positive\" if yproba1 >= thresh\n",
    "        Default value reflects a majority-classification approach (class is the one that gets\n",
    "        highest probability)\n",
    "\n",
    "    Returns\n",
    "    -------\n",
    "    acc : accuracy of predictions\n",
    "    tpr : true positive rate of predictions\n",
    "    tnr : true negative rate of predictions\n",
    "    ppv : positive predictive value of predictions\n",
    "    npv : negative predictive value of predictions\n",
    "    '''\n",
    "\n",
    "    # TODO: fix this\n",
    "    \n",
    "    # calculating true/false positives/negatives\n",
    "    TP, TN, FP, FN = calc_TP_TN_FP_FN(ytrue_N, yproba1_N >= thresh)\n",
    "    \n",
    "    acc = (TP + TN) / float(TP + TN + FP + FN + 1e-10)\n",
    "    tpr = TP / float(TP + FN + 1e-10)\n",
    "    tnr = TN / float(TN + FP + 1e-10)\n",
    "    ppv = TP / float(TP + FP + 1e-10)\n",
    "    npv = TN / float(TN + FN + 1e-10)\n",
    "    \n",
    "    return acc, tpr, tnr, ppv, npv\n",
    "\n",
    "# You can use this function later to make printing results easier; don't change it.\n",
    "def print_perf_metrics_for_threshold(ytrue_N, yproba1_N, thresh=0.5):\n",
    "    ''' Pretty print perf. metrics for a given probabilistic classifier and threshold\n",
    "    '''\n",
    "    acc, tpr, tnr, ppv, npv = calc_perf_metrics_for_threshold(ytrue_N, yproba1_N, thresh)\n",
    "    \n",
    "    ## Pretty print the results\n",
    "    print(\"%.3f ACC\" % acc)\n",
    "    print(\"%.3f TPR\" % tpr)\n",
    "    print(\"%.3f TNR\" % tnr)\n",
    "    print(\"%.3f PPV\" % ppv)\n",
    "    print(\"%.3f NPV\" % npv)"
   ]
  },
  {
   "cell_type": "markdown",
   "metadata": {},
   "source": [
    "#### (d) Compare the probabilistic classifier across multiple decision thresholds\n",
    "\n",
    "Try a range of thresholds for classifying data into the positive class (1).  For each threshold, compute the true postive rate (TPR) and positive predictive value (PPV).  Record the best value of each metric, along with the threshold that achieves it, and the *other* metric at that threshold."
   ]
  },
  {
   "cell_type": "code",
   "execution_count": 283,
   "metadata": {},
   "outputs": [],
   "source": [
    "# initialize thresholds\n",
    "thresholds = np.linspace(0, 1.001, 51)\n",
    "\n",
    "#initialize best TPR and PPV variables\n",
    "best_TPR = 0\n",
    "best_PPV_for_best_TPR = 0\n",
    "best_TPR_threshold = 0\n",
    "\n",
    "best_PPV = 0\n",
    "best_TPR_for_best_PPV = 0  \n",
    "best_PPV_threshold = 0\n",
    "\n",
    "for magnitude in range(len(thresholds)):\n",
    "\n",
    "    # calculate metrics\n",
    "    acc, tpr, tnr, ppv, npv = calc_perf_metrics_for_threshold(y_test, prob_scores, thresholds[magnitude])\n",
    "    \n",
    "    # update best TPR\n",
    "    if(tpr >= best_TPR): \n",
    "        if((tpr > best_TPR) or (ppv > best_PPV_for_best_TPR)):\n",
    "            best_TPR = tpr\n",
    "            best_PPV_for_best_TPR = ppv\n",
    "            best_TPR_threshold = thresholds[magnitude]\n",
    "    \n",
    "    # update best PPB\n",
    "    if(ppv >= best_PPV):\n",
    "        if((ppv > best_PPV) or (tpr > best_TPR_for_best_PPV)):\n",
    "            best_PPV = ppv\n",
    "            best_TPR_for_best_PPV = tpr \n",
    "            best_PPV_threshold = thresholds[magnitude]\n",
    "    "
   ]
  },
  {
   "cell_type": "code",
   "execution_count": 284,
   "metadata": {},
   "outputs": [
    {
     "name": "stdout",
     "output_type": "stream",
     "text": [
      "TPR threshold: 0.0601 => TPR: 1.0000; PPV: 0.2778\n",
      "PPV threshold: 0.6206 => PPV: 1.0000; TPR: 0.2000\n"
     ]
    }
   ],
   "source": [
    "print(\"TPR threshold: %.4f => TPR: %.4f; PPV: %.4f\" % (best_TPR_threshold, best_TPR, best_PPV_for_best_TPR))\n",
    "print(\"PPV threshold: %.4f => PPV: %.4f; TPR: %.4f\" % (best_PPV_threshold, best_PPV, best_TPR_for_best_PPV))"
   ]
  },
  {
   "cell_type": "markdown",
   "metadata": {},
   "source": [
    "#### (e) Exploring diffrerent thresholds\n",
    "\n",
    "#### (i) Using default 0.5 threshold. \n",
    "\n",
    "Generate confusion matrix and metrics for probabilistic classifier, using threshold 0.5."
   ]
  },
  {
   "cell_type": "code",
   "execution_count": 285,
   "metadata": {},
   "outputs": [
    {
     "name": "stdout",
     "output_type": "stream",
     "text": [
      "ON THE TEST SET:\n",
      "Chosen best threshold = 0.5000\n",
      "\n",
      "Predicted    0   1\n",
      "True              \n",
      "0          150   5\n",
      "1           15  10\n",
      "\n",
      "0.889 ACC\n",
      "0.400 TPR\n",
      "0.968 TNR\n",
      "0.667 PPV\n",
      "0.909 NPV\n"
     ]
    }
   ],
   "source": [
    "best_thr = 0.5\n",
    "print(\"ON THE TEST SET:\")\n",
    "print(\"Chosen best threshold = %.4f\" % best_thr)\n",
    "print(\"\")\n",
    "print(calc_confusion_matrix_for_threshold(y_test, prob_scores, best_thr))\n",
    "print(\"\")\n",
    "print_perf_metrics_for_threshold(y_test, prob_scores, best_thr)"
   ]
  },
  {
   "cell_type": "markdown",
   "metadata": {},
   "source": [
    "#### (ii) Using threshold with highest TPR. \n",
    "\n",
    "Generate confusion matrix and metrics for probabilistic classifier, using threshold that maximizes TPR."
   ]
  },
  {
   "cell_type": "code",
   "execution_count": 286,
   "metadata": {},
   "outputs": [
    {
     "name": "stdout",
     "output_type": "stream",
     "text": [
      "ON THE TEST SET:\n",
      "Chosen best threshold = 0.0601\n",
      "\n",
      "Predicted   0   1\n",
      "True             \n",
      "0          90  65\n",
      "1           0  25\n",
      "\n",
      "0.639 ACC\n",
      "1.000 TPR\n",
      "0.581 TNR\n",
      "0.278 PPV\n",
      "1.000 NPV\n"
     ]
    }
   ],
   "source": [
    "best_thr = best_TPR_threshold\n",
    "print(\"ON THE TEST SET:\")\n",
    "print(\"Chosen best threshold = %.4f\" % best_thr)\n",
    "print(\"\")\n",
    "print(calc_confusion_matrix_for_threshold(y_test, prob_scores, best_thr))\n",
    "print(\"\")\n",
    "print_perf_metrics_for_threshold(y_test, prob_scores, best_thr)"
   ]
  },
  {
   "cell_type": "markdown",
   "metadata": {},
   "source": [
    "#### (iii) Using threshold with highest PPV. \n",
    "\n",
    "Generate confusion matrix and metrics for probabilistic classifier, using threshold that maximizes PPV."
   ]
  },
  {
   "cell_type": "code",
   "execution_count": 289,
   "metadata": {},
   "outputs": [
    {
     "name": "stdout",
     "output_type": "stream",
     "text": [
      "ON THE TEST SET:\n",
      "Chosen best threshold = 0.6206\n",
      "\n",
      "Predicted    0  1\n",
      "True             \n",
      "0          155  0\n",
      "1           20  5\n",
      "\n",
      "0.889 ACC\n",
      "0.200 TPR\n",
      "1.000 TNR\n",
      "1.000 PPV\n",
      "0.886 NPV\n"
     ]
    }
   ],
   "source": [
    "best_thr = best_PPV_threshold\n",
    "print(\"ON THE TEST SET:\")\n",
    "print(\"Chosen best threshold = %.4f\" % best_thr)\n",
    "print(\"\")\n",
    "print(calc_confusion_matrix_for_threshold(y_test, prob_scores, best_thr))\n",
    "print(\"\")\n",
    "print_perf_metrics_for_threshold(y_test, prob_scores, best_thr)"
   ]
  },
  {
   "cell_type": "markdown",
   "metadata": {},
   "source": [
    "#### (iv) Compare the confusion matrices from (a)–(c) to analyze the different thresholds.\n",
    "\n",
    "**Answer**: The probabilistic classifier at threshold 0.5 has a fairly high accuracy (0.889). \n",
    "While it has low TPR (0.400) and PPV (0.667), it has high TNR (0.968) and NPV (0.909). \n",
    "With low TPR and PPV, the effects would mean that 15 patients with cancer would not have their cancer detected (false negative) and 5 patients without cancer would be diagnosed with it (false positive), which is pretty bad even though it is not a lot.\n",
    "\n",
    "The probabilistic classifier at threshold 0.06 has a medium accuracy (0.639), lower than threshold at 0.5. \n",
    "While it has low TNR (0.581) and PPV (0.278), which is much lower than the previous results, it has a perfect TNR (1.000) and NPV (1.00). \n",
    "A result of this would mean that there would be no false negatives (so no cancer would go undetected). However, there would be a good amount of cancer free patients that would get false positives. While it is better than a threshold of 0.5, it is still innaccurate.\n",
    "\n",
    "The probabilistic classifier at threshold 0.62 has a fairly high accuracy (0.889), same as threshold 0.5. \n",
    "While it has lowest TPR we have seen (0.200), we see a fairly high NPV (0.886) and perfect TNR (1.0) and PPV (1.0). \n",
    "At this threshold, we have no false positives, but we do a have the most number of false negatives out of the three, which is realively bad."
   ]
  }
 ],
 "metadata": {
  "kernelspec": {
   "display_name": "Python 3",
   "language": "python",
   "name": "python3"
  },
  "language_info": {
   "codemirror_mode": {
    "name": "ipython",
    "version": 3
   },
   "file_extension": ".py",
   "mimetype": "text/x-python",
   "name": "python",
   "nbconvert_exporter": "python",
   "pygments_lexer": "ipython3",
   "version": "3.8.8"
  }
 },
 "nbformat": 4,
 "nbformat_minor": 2
}
