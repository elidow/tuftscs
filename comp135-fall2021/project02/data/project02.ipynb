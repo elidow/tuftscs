{
 "cells": [
  {
   "cell_type": "markdown",
   "id": "6d1fb7ce",
   "metadata": {},
   "source": [
    "## PROJECT 01\n",
    "\n",
    "### by Eli Dow\n"
   ]
  },
  {
   "cell_type": "markdown",
   "id": "36de4f1a",
   "metadata": {},
   "source": [
    "## Part One: Classifying Review Sentiment with Bag-of-Words Features"
   ]
  },
  {
   "cell_type": "markdown",
   "id": "f58c7437",
   "metadata": {},
   "source": [
    "### Import required libraries"
   ]
  },
  {
   "cell_type": "code",
   "execution_count": 86,
   "id": "697784d1",
   "metadata": {},
   "outputs": [
    {
     "name": "stderr",
     "output_type": "stream",
     "text": [
      "[nltk_data] Downloading package stopwords to\n",
      "[nltk_data]     /Users/edow1720/nltk_data...\n",
      "[nltk_data]   Package stopwords is already up-to-date!\n",
      "[nltk_data] Downloading package wordnet to\n",
      "[nltk_data]     /Users/edow1720/nltk_data...\n",
      "[nltk_data]   Package wordnet is already up-to-date!\n"
     ]
    }
   ],
   "source": [
    "import os\n",
    "import numpy as np\n",
    "import pandas as pd\n",
    "\n",
    "import warnings\n",
    "\n",
    "import nltk\n",
    "nltk.download('stopwords')\n",
    "nltk.download('wordnet')\n",
    "from nltk.tokenize import word_tokenize\n",
    "from nltk.corpus import stopwords\n",
    "from nltk.stem import WordNetLemmatizer\n",
    "from nltk.stem.porter import PorterStemmer\n",
    "\n",
    "from sklearn.feature_extraction.text import CountVectorizer\n",
    "from sklearn.feature_extraction.text import TfidfTransformer\n",
    "from sklearn.feature_extraction.text import TfidfVectorizer\n",
    "\n",
    "from sklearn.linear_model import LogisticRegression \n",
    "from sklearn.model_selection import GridSearchCV\n",
    "import seaborn as sns\n",
    "\n",
    "import matplotlib.pyplot as plt\n",
    "\n",
    "import sklearn.tree\n",
    "\n",
    "from sklearn.neural_network import MLPClassifier"
   ]
  },
  {
   "cell_type": "code",
   "execution_count": 87,
   "id": "29cf9700",
   "metadata": {},
   "outputs": [],
   "source": [
    "x_train = pd.read_csv('data_reviews/x_train.csv')\n",
    "y_train = pd.read_csv('data_reviews/y_train.csv')\n",
    "\n",
    "x_test = pd.read_csv('data_reviews/x_test.csv')\n",
    "\n",
    "x_text_train = x_train['text'].values.tolist()\n",
    "x_text_test = x_test['text'].values.tolist()"
   ]
  },
  {
   "cell_type": "code",
   "execution_count": 88,
   "id": "1b919541",
   "metadata": {},
   "outputs": [],
   "source": [
    "contractions = {\n",
    "\"aren't\" : \"are not\",\n",
    "\"can't\" : \"cannot\",\n",
    "\"couldn't\" : \"could not\",\n",
    "\"didn't\" : \"did not\",\n",
    "\"doesn't\" : \"does not\",\n",
    "\"don't\" : \"do not\",\n",
    "\"hadn't\" : \"had not\",\n",
    "\"hasn't\" : \"has not\",\n",
    "\"haven't\" : \"have not\",\n",
    "\"he'd\" : \"he would\",\n",
    "\"he'll\" : \"he will\",\n",
    "\"he's\" : \"he is\",\n",
    "\"i'd\" : \"i would\",\n",
    "\"i'll\" : \"i will\",\n",
    "\"i'm\" : \"i am\",\n",
    "\"isn't\" : \"is not\",\n",
    "\"it's\" : \"it is\",\n",
    "\"it'll\":\"it will\",\n",
    "\"i've\" : \"i have\",\n",
    "\"let's\" : \"let us\",\n",
    "\"mustn't\" : \"must not\",\n",
    "\"shan't\" : \"shall not\",\n",
    "\"she'd\" : \"she would\",\n",
    "\"she'll\" : \"she will\",\n",
    "\"she's\" : \"she is\",\n",
    "\"shouldn't\" : \"should not\",\n",
    "\"that's\" : \"that is\",\n",
    "\"there's\" : \"there is\",\n",
    "\"they'd\" : \"they would\",\n",
    "\"they'll\" : \"they will\",\n",
    "\"they're\" : \"they are\",\n",
    "\"they've\" : \"they have\",\n",
    "\"wasn't\": \"was not\",\n",
    "\"we'd\" : \"we would\",\n",
    "\"we'll\":\" will\",\n",
    "\"we're\" : \"we are\",\n",
    "\"weren't\" : \"were not\",\n",
    "\"we've\" : \"we have\",\n",
    "\"what'll\" : \"what will\",\n",
    "\"what're\" : \"what are\",\n",
    "\"what's\" : \"what is\",\n",
    "\"what've\" : \"what have\",\n",
    "\"where's\" : \"where is\",\n",
    "\"who'd\" : \"who would\",\n",
    "\"who'll\" : \"who will\",\n",
    "\"who're\" : \"who are\",\n",
    "\"who's\" : \"who is\",\n",
    "\"who've\" : \"who have\",\n",
    "\"won't\" : \"will not\",\n",
    "\"wouldn't\" : \"would not\",\n",
    "\"you'd\" : \"you would\",\n",
    "\"you'll\" : \"you will\",\n",
    "\"you're\" : \"you are\",\n",
    "\"you've\" : \"you have\",\n",
    "\"'re\": \" are\",\n",
    "\"wasn't\": \"was not\",\n",
    "}"
   ]
  },
  {
   "cell_type": "code",
   "execution_count": 89,
   "id": "d92a4e9e",
   "metadata": {},
   "outputs": [],
   "source": [
    "warnings.filterwarnings('ignore', category=UserWarning, append=True)\n",
    "def preprocess_data(review_data):\n",
    "    ''' Preprocesses review list with a variety of methods\n",
    "    \n",
    "    Args\n",
    "    ----\n",
    "    input_data : 1D array of strings\n",
    "        Each entry consists of a string review\n",
    "\n",
    "    Returns\n",
    "    -------\n",
    "    preprocessed : 2D array of word lists\n",
    "        Each entry consists of a list of words\n",
    "    '''\n",
    "    \n",
    "    processed = []\n",
    "    \n",
    "    # convert text to lower case\n",
    "    for text in review_data:\n",
    "        processed.append(text.lower())\n",
    "    \n",
    "    # convert words with contractions to original words\n",
    "    originals = []\n",
    "    for text in processed:\n",
    "        words = text.split()\n",
    "        reformed = []\n",
    "        \n",
    "        for word in words:\n",
    "            if word in contractions:\n",
    "                reformed.append(contractions[word])\n",
    "            else:\n",
    "                reformed.append(word)\n",
    "                \n",
    "        reformed = \" \".join(reformed)\n",
    "        originals.append(reformed)\n",
    "\n",
    "    # tokenize data by converting text to tokens (words split up)\n",
    "    tokenized = []\n",
    "    for text in originals:\n",
    "        tokenized.append(word_tokenize(text))\n",
    "\n",
    "    # remove stopwords (words most commonly used but not relevant in the context of data)\n",
    "    stop_words = set(stopwords.words('english'))\n",
    "    for text in tokenized:\n",
    "        for token in text:\n",
    "            if token in stop_words:\n",
    "                text.remove(token)\n",
    "\n",
    "    # removes stand-alone punctuation and hyphens between words\n",
    "    stripped = []\n",
    "    for text in tokenized:\n",
    "        words = []\n",
    "        for word in text:\n",
    "            if word.isalpha():\n",
    "                words.append(word)\n",
    "            elif '-' in word and '--' not in word:\n",
    "                if len(word.replace('-','')) != 0 and word.replace('-','').isalpha():\n",
    "                    words.append(word.replace('-',''))\n",
    "                    \n",
    "        stripped.append(words)\n",
    "    \n",
    "    '''\n",
    "    lemmafied = []\n",
    "    lemmatizer = WordNetLemmatizer()\n",
    "    for text in stripped:\n",
    "        lemm = []\n",
    "        for word in text:\n",
    "            lemm.append(lemmatizer.lemmatize(word))\n",
    "        lemmafied.append(lemm)\n",
    "    \n",
    "    '''\n",
    "    lemmafied = []\n",
    "    porter = PorterStemmer()\n",
    "    for text in stripped:\n",
    "        lemm = []\n",
    "        for word in text:\n",
    "            lemm.append(porter.stem(word))\n",
    "        lemmafied.append(lemm)\n",
    "    \n",
    "    # put back into sentences\n",
    "    processed = []\n",
    "    for text in lemmafied:\n",
    "        sentence = \" \".join(text)\n",
    "        processed.append(sentence)\n",
    "\n",
    "    return processed"
   ]
  },
  {
   "cell_type": "markdown",
   "id": "62fb5f85",
   "metadata": {},
   "source": [
    "### 1.1. Explanation for Pipeline that Generates Bag-of-Words Features"
   ]
  },
  {
   "cell_type": "code",
   "execution_count": 90,
   "id": "2349e861",
   "metadata": {},
   "outputs": [
    {
     "name": "stdout",
     "output_type": "stream",
     "text": [
      "(2400, 4510)\n",
      "(600, 1921)\n",
      "['Oh and I forgot to also mention the weird color effect it has on your phone.', \"THAT one didn't work either.\", 'Waste of 13 bucks.', 'Product is useless, since it does not have enough charging current to charge the 2 cellphones I was planning to use it with.']\n",
      "['oh i forgot also mention weird color effect ha your phone', 'one not work either', 'wast buck', 'product useless sinc doe have enough charg current charg cellphon wa plan use with']\n",
      "(2400, 3518)\n",
      "(600, 1589)\n"
     ]
    }
   ],
   "source": [
    "# use counting vectorizer to count unique words before preprocessing\n",
    "cv = CountVectorizer()\n",
    "word_count_train = cv.fit_transform(x_text_train)\n",
    "word_count_test = cv.fit_transform(x_text_test)\n",
    "print(word_count_train.shape)\n",
    "print(word_count_test.shape)\n",
    "\n",
    "# initialize vectorizer\n",
    "vectorizer = TfidfVectorizer()\n",
    "\n",
    "# preprocess training and testing data\n",
    "print(x_text_train[0:4])\n",
    "x_train_processed = preprocess_data(x_text_train)\n",
    "print(x_train_processed[0:4])\n",
    "x_test_processed = preprocess_data(x_text_test)\n",
    "\n",
    "# transform training and testing data\n",
    "x_train_transformed = vectorizer.fit_transform(x_train_processed)\n",
    "x_test_transformed = vectorizer.transform(x_test_processed)\n",
    "\n",
    "# use counting vectorizer to count unique words after preprocessing\n",
    "word_count_train = cv.fit_transform(x_train_processed)\n",
    "word_count_test = cv.fit_transform(x_test_processed)\n",
    "print(word_count_train.shape)\n",
    "print(word_count_test.shape)"
   ]
  },
  {
   "cell_type": "markdown",
   "id": "5320af41",
   "metadata": {},
   "source": [
    "### 1.2. Logistic Regression Model for Feature Data"
   ]
  },
  {
   "cell_type": "code",
   "execution_count": 137,
   "id": "9ddc770d",
   "metadata": {},
   "outputs": [
    {
     "name": "stdout",
     "output_type": "stream",
     "text": [
      "BEST SCORE: \n",
      "0.8004166666666667\n"
     ]
    },
    {
     "data": {
      "image/png": "[encoded data removed]",
      "text/plain": [
       "<Figure size 432x288 with 2 Axes>"
      ]
     },
     "metadata": {
      "needs_background": "light"
     },
     "output_type": "display_data"
    }
   ],
   "source": [
    "\n",
    "def logistic_regression(training_input, training_output, testing_input):\n",
    "    ''' Performs logistic regression on feature data representing website reviews\n",
    "    \n",
    "    Args\n",
    "    ----\n",
    "    training_input : 1D array of review training data\n",
    "        Each entry consists of a string review\n",
    "    training_output : 1D array of floats\n",
    "        Each entry represents the binary value (0 or 1) that says whether the sentiment is positive or negative\n",
    "    testing_input : 1D array of review testing data\n",
    "        Each entry consists of a string review\n",
    "\n",
    "    Returns\n",
    "    -------\n",
    "    Nothing : \n",
    "        Creates txt file yproba1_test.txt\n",
    "        txt file represents one probability value per line/example from testing set\n",
    "        \n",
    "    '''\n",
    "\n",
    "    log_reg = LogisticRegression(solver='liblinear')\n",
    "    # Grid Search for Hyperparameters\n",
    "    C = np.logspace(-2, 2, 19)\n",
    "    penalty = ['l2', 'l1']\n",
    "    hyperparams = dict(C=C, penalty=penalty)\n",
    "    clf = GridSearchCV(log_reg, hyperparams, cv=5, verbose=0)\n",
    "    clf.fit(training_input, training_output)\n",
    "\n",
    "    print(\"BEST SCORE: \")\n",
    "    print(clf.best_score_)\n",
    "    '''\n",
    "    print(\"STANDARD DEVIATIONS\")\n",
    "    print(clf.cv_results_['std_test_score'])\n",
    "    print(\"STANDARD DEVIATION FOR BEST SCORE:\")\n",
    "    print(clf.cv_results_['std_test_score'][clf.best_index_])\n",
    "    '''\n",
    "\n",
    "    pivot = pd.pivot_table(pd.DataFrame(clf.cv_results_), values='mean_test_score', index='param_C', columns='param_penalty')\n",
    "    ax = sns.heatmap(pivot)\n",
    "    ax.set_title(\"Logistic Regression Model with Different Hyperparameters for Review Data\")\n",
    "    ax.set_ylabel(\"C value\")\n",
    "    ax.set_xlabel(\"Regularization penalty\")\n",
    "    \n",
    "     # calculating logistic loss\n",
    "    probability = clf.predict_proba(testing_input)[:, 1]\n",
    "    \n",
    "    # save to txt file\n",
    "    np.savetxt('yproba1_test.txt', probability)\n",
    "    \n",
    "    return\n",
    "\n",
    "logistic_regression(x_train_transformed, y_train, x_test_transformed)\n"
   ]
  },
  {
   "cell_type": "markdown",
   "id": "406a01ac",
   "metadata": {},
   "source": [
    "### 1.3. Neural Network Model for Feature Data"
   ]
  },
  {
   "cell_type": "code",
   "execution_count": 135,
   "id": "99c8d843",
   "metadata": {},
   "outputs": [
    {
     "name": "stdout",
     "output_type": "stream",
     "text": [
      "BEST SCORE: \n",
      "0.7945833333333334\n",
      "STANDARD DEVIATIONS\n",
      "[0.01256925 0.01627669 0.01396921 0.01608355 0.01121135 0.02038688\n",
      " 0.01595349 0.09433245 0.01533197 0.0183995  0.01627669 0.01457738\n",
      " 0.01671867 0.01818119 0.01280191 0.01750992]\n",
      "STANDARD DEVIATION FOR BEST SCORE:\n",
      "0.017509917824542264\n"
     ]
    },
    {
     "data": {
      "image/png": "[encoded data removed]",
      "text/plain": [
       "<Figure size 432x288 with 2 Axes>"
      ]
     },
     "metadata": {
      "needs_background": "light"
     },
     "output_type": "display_data"
    }
   ],
   "source": [
    "def MLP(training_input, training_output, testing_input):\n",
    "    ''' Performs mlp classifier on feature data representing website reviews\n",
    "    \n",
    "    Args\n",
    "    ----\n",
    "    training_input : 1D array of review training data\n",
    "        Each entry consists of a string review\n",
    "    training_output : 1D array of floats\n",
    "        Each entry represents the binary value (0 or 1) that says whether the sentiment is positive or negative\n",
    "    testing_input : 1D array of review testing data\n",
    "        Each entry consists of a string review\n",
    "\n",
    "    Returns\n",
    "    -------\n",
    "    Nothing : \n",
    "        Creates txt file yproba1_test.txt\n",
    "        txt file represents one probability value per line/example from testing set\n",
    "        \n",
    "    '''\n",
    "        \n",
    "    mlp = MLPClassifier(max_iter=10)\n",
    "\n",
    "    hyperparams = {\n",
    "        'hidden_layer_sizes': [(100,), (200,), (50,), (100,100)],\n",
    "        'activation': ['identity','logistic', 'tanh', 'relu'],\n",
    "    }\n",
    "\n",
    "    clf = GridSearchCV(mlp, hyperparams, cv=5, verbose=0)\n",
    "    clf.fit(training_input, training_output.values.ravel())\n",
    "    \n",
    "    \n",
    "\n",
    "    print(\"BEST SCORE: \")\n",
    "    print(clf.best_score_)\n",
    "    print(\"STANDARD DEVIATIONS\")\n",
    "    print(clf.cv_results_['std_test_score'])\n",
    "    print(\"STANDARD DEVIATION FOR BEST SCORE:\")\n",
    "    print(clf.cv_results_['std_test_score'][clf.best_index_])\n",
    "\n",
    "    pivot_mlp = pd.pivot_table(pd.DataFrame(clf.cv_results_), values='mean_test_score', index='param_hidden_layer_sizes', columns='param_activation')\n",
    "    ax_mlp = sns.heatmap(pivot_mlp)\n",
    "    ax_mlp.set_title(\"MLP Model with Different Hyperparameters for Review Data\")\n",
    "    ax_mlp.set_xlabel(\"activation function\")\n",
    "    ax_mlp.set_ylabel(\"hidden layer sizes\")\n",
    "    \n",
    "    # calculating logistic loss\n",
    "    probability = clf.predict_proba(testing_input)[:, 1]\n",
    "    \n",
    "    # save to txt file\n",
    "    np.savetxt('yproba1_test.txt', probability)\n",
    "    \n",
    "    return\n",
    "\n",
    "MLP(x_train_transformed, y_train, x_test_transformed)"
   ]
  },
  {
   "cell_type": "markdown",
   "id": "74775f94",
   "metadata": {},
   "source": [
    "### 1.4. Decision Tree Model for Feature Data"
   ]
  },
  {
   "cell_type": "code",
   "execution_count": 136,
   "id": "13005a6d",
   "metadata": {},
   "outputs": [
    {
     "name": "stdout",
     "output_type": "stream",
     "text": [
      "BEST SCORE: \n",
      "0.74875\n",
      "STANDARD DEVIATIONS\n",
      "[0.03455069 0.02917857 0.03255871 0.03141899 0.02695804 0.03266518\n",
      " 0.03048793 0.03552679 0.03746758 0.03683201 0.03365986 0.03678957]\n",
      "STANDARD DEVIATION FOR BEST SCORE:\n",
      "0.02695804353270302\n"
     ]
    },
    {
     "data": {
      "image/png": "[encoded data removed]",
      "text/plain": [
       "<Figure size 432x288 with 2 Axes>"
      ]
     },
     "metadata": {
      "needs_background": "light"
     },
     "output_type": "display_data"
    }
   ],
   "source": [
    "def DecisionTree(training_input, training_output, testing_input):\n",
    "    ''' Performs decision tree on feature data representing website reviews\n",
    "    \n",
    "    Args\n",
    "    ----\n",
    "    training_input : 1D array of review training data\n",
    "        Each entry consists of a string review\n",
    "    training_output : 1D array of floats\n",
    "        Each entry represents the binary value (0 or 1) that says whether the sentiment is positive or negative\n",
    "    testing_input : 1D array of review testing data\n",
    "        Each entry consists of a string review\n",
    "\n",
    "    Returns\n",
    "    -------\n",
    "    Nothing : \n",
    "        Creates txt file yproba1_test.txt\n",
    "        txt file represents one probability value per line/example from testing set\n",
    "        \n",
    "    '''\n",
    "        \n",
    "    simple_clf = sklearn.tree.DecisionTreeClassifier()\n",
    "\n",
    "    hyperparams = {\n",
    "        'criterion': [\"entropy\", \"gini\"],\n",
    "        'max_depth': [40, 50, 60, 70, 80, 90]\n",
    "    }\n",
    "\n",
    "    clf = GridSearchCV(simple_clf, hyperparams, cv=5, verbose=0)\n",
    "    clf.fit(training_input, training_output)\n",
    "    \n",
    "    \n",
    "\n",
    "    print(\"BEST SCORE: \")\n",
    "    print(clf.best_score_)\n",
    "    print(\"STANDARD DEVIATIONS\")\n",
    "    print(clf.cv_results_['std_test_score'])\n",
    "    print(\"STANDARD DEVIATION FOR BEST SCORE:\")\n",
    "    print(clf.cv_results_['std_test_score'][clf.best_index_])\n",
    "\n",
    "    pivot_clf = pd.pivot_table(pd.DataFrame(clf.cv_results_), values='mean_test_score', index='param_max_depth', columns='param_criterion')\n",
    "    ax_clf = sns.heatmap(pivot_clf)\n",
    "    ax_clf.set_title(\"Decision Tree Model with Different Hyperparameters for Review Data\")\n",
    "    ax_clf.set_ylabel(\"max depth\")\n",
    "    ax_clf.set_xlabel(\"criterion function\")\n",
    "    \n",
    "    # calculating logistic loss\n",
    "    probability = clf.predict_proba(testing_input)[:, 1]\n",
    "    \n",
    "    # save to txt file\n",
    "    np.savetxt('yproba1_test.txt', probability)\n",
    "    \n",
    "    return\n",
    "\n",
    "DecisionTree(x_train_transformed, y_train, x_test_transformed)"
   ]
  },
  {
   "cell_type": "code",
   "execution_count": null,
   "id": "fcb0b430",
   "metadata": {},
   "outputs": [],
   "source": []
  }
 ],
 "metadata": {
  "kernelspec": {
   "display_name": "Python 3",
   "language": "python",
   "name": "python3"
  },
  "language_info": {
   "codemirror_mode": {
    "name": "ipython",
    "version": 3
   },
   "file_extension": ".py",
   "mimetype": "text/x-python",
   "name": "python",
   "nbconvert_exporter": "python",
   "pygments_lexer": "ipython3",
   "version": "3.8.8"
  }
 },
 "nbformat": 4,
 "nbformat_minor": 5
}
